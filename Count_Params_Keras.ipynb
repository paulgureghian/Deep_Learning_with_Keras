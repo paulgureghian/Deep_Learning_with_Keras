{
  "nbformat": 4,
  "nbformat_minor": 0,
  "metadata": {
    "colab": {
      "name": "Count_Params_Keras.ipynb",
      "version": "0.3.2",
      "provenance": [],
      "collapsed_sections": [],
      "include_colab_link": true
    },
    "kernelspec": {
      "name": "python3",
      "display_name": "Python 3"
    },
    "accelerator": "GPU"
  },
  "cells": [
    {
      "cell_type": "markdown",
      "metadata": {
        "id": "view-in-github",
        "colab_type": "text"
      },
      "source": [
        "<a href=\"https://colab.research.google.com/github/paulgureghian/Deep_Learning_with_Keras/blob/master/Count_Params_Keras.ipynb\" target=\"_parent\"><img src=\"https://colab.research.google.com/assets/colab-badge.svg\" alt=\"Open In Colab\"/></a>"
      ]
    },
    {
      "metadata": {
        "id": "O25iHpErAdVx",
        "colab_type": "text"
      },
      "cell_type": "markdown",
      "source": [
        "**Created by Paul A. Gureghian in Jan 2019.**"
      ]
    },
    {
      "metadata": {
        "id": "_RdqY8A-_ERo",
        "colab_type": "text"
      },
      "cell_type": "markdown",
      "source": [
        "**Counting No. of Parameters in Deep Learning Models with Keras APIs.**\n",
        "\n",
        "**5 simple examples to count the number of trainable parameters in these types of neural networks:**\n",
        "\n",
        "* **FFNN**\n",
        "* **RNN**\n",
        "* **CNN**"
      ]
    },
    {
      "metadata": {
        "id": "t9GZPjA_5ok_",
        "colab_type": "code",
        "colab": {}
      },
      "cell_type": "code",
      "source": [
        "### Import Keras\n",
        "from keras.models import Model\n",
        "from keras.layers import Bidirectional\n",
        "from keras.layers import Input, Dense, SimpleRNN, LSTM, GRU, Conv2D"
      ],
      "execution_count": 0,
      "outputs": []
    },
    {
      "metadata": {
        "id": "QyV0Vpu16wST",
        "colab_type": "code",
        "colab": {
          "base_uri": "https://localhost:8080/",
          "height": 51
        },
        "outputId": "7b6c4be4-d938-4440-a0d3-446107ef5e00"
      },
      "cell_type": "code",
      "source": [
        "### FFNN \n",
        "input = Input((None, 3)) \n",
        "dense = Dense(5)(input)\n",
        "output = Dense(2)(dense) \n",
        "model = Model(input, output) \n",
        "count = model.count_params()\n",
        "print('Count:\\n', count)"
      ],
      "execution_count": 10,
      "outputs": [
        {
          "output_type": "stream",
          "text": [
            "Count:\n",
            " 32\n"
          ],
          "name": "stdout"
        }
      ]
    },
    {
      "metadata": {
        "id": "6xWUD3j1BNTv",
        "colab_type": "code",
        "colab": {
          "base_uri": "https://localhost:8080/",
          "height": 51
        },
        "outputId": "b0d7efc2-2b6f-4b66-d67b-f95b56db7f3b"
      },
      "cell_type": "code",
      "source": [
        "### Deeper FFNN\n",
        "input = Input((None, 50)) \n",
        "dense = Dense(100)(input)\n",
        "dense = Dense(1)(dense)\n",
        "dense = Dense(100)(dense)\n",
        "output = Dense(50)(dense) \n",
        "model = Model(input, output) \n",
        "count = model.count_params()\n",
        "print('Count:\\n', count)"
      ],
      "execution_count": 11,
      "outputs": [
        {
          "output_type": "stream",
          "text": [
            "Count:\n",
            " 10451\n"
          ],
          "name": "stdout"
        }
      ]
    },
    {
      "metadata": {
        "id": "6tOBkFl4CXWl",
        "colab_type": "code",
        "colab": {
          "base_uri": "https://localhost:8080/",
          "height": 51
        },
        "outputId": "cddb6727-dfe1-4fe6-bdf3-49ff918cd813"
      },
      "cell_type": "code",
      "source": [
        "### RNN\n",
        "### LSTM\n",
        "input = Input((None, 3))\n",
        "lstm = LSTM(2)(input)\n",
        "model = Model(input, lstm)\n",
        "count = model.count_params()\n",
        "print('Count:\\n', count)"
      ],
      "execution_count": 14,
      "outputs": [
        {
          "output_type": "stream",
          "text": [
            "Count:\n",
            " 48\n"
          ],
          "name": "stdout"
        }
      ]
    },
    {
      "metadata": {
        "id": "SswtohYVHhIk",
        "colab_type": "code",
        "colab": {
          "base_uri": "https://localhost:8080/",
          "height": 51
        },
        "outputId": "6cb6ff5d-dcd4-4620-dcc8-5ec31f17509c"
      },
      "cell_type": "code",
      "source": [
        "### RNN\n",
        "### Stacked Bidirectional GRU\n",
        "input = Input((None, 8))\n",
        "layer1 = Bidirectional(GRU(5, return_sequences =True))(input)\n",
        "layer2 = LSTM(50)(layer1)\n",
        "model = Model(input, layer2)  \n",
        "count = model.count_params()\n",
        "print('Count:\\n', count) "
      ],
      "execution_count": 15,
      "outputs": [
        {
          "output_type": "stream",
          "text": [
            "Count:\n",
            " 12620\n"
          ],
          "name": "stdout"
        }
      ]
    },
    {
      "metadata": {
        "id": "FdAUoqeOSVVk",
        "colab_type": "code",
        "colab": {
          "base_uri": "https://localhost:8080/",
          "height": 51
        },
        "outputId": "4b6036a8-d120-4326-ac1d-4f4b1bb511d4"
      },
      "cell_type": "code",
      "source": [
        "### CNN\n",
        "input = Input((None, None, 1))\n",
        "conv2d = Conv2D(kernel_size =2, filters =3)(input)\n",
        "model = Model(input, conv2d)\n",
        "count = model.count_params()\n",
        "print('Count:\\n', count) "
      ],
      "execution_count": 16,
      "outputs": [
        {
          "output_type": "stream",
          "text": [
            "Count:\n",
            " 15\n"
          ],
          "name": "stdout"
        }
      ]
    },
    {
      "metadata": {
        "id": "JyeIbKceThUx",
        "colab_type": "code",
        "colab": {
          "base_uri": "https://localhost:8080/",
          "height": 51
        },
        "outputId": "325cc50b-a4c1-4df2-e92d-95d4472d68ae"
      },
      "cell_type": "code",
      "source": [
        "### CNN\n",
        "input = Input((None, None, 3)) \n",
        "conv2d = Conv2D(kernel_size =2, filters =1)(input)\n",
        "model = Model(input, conv2d)\n",
        "count = model.count_params()\n",
        "print('Count:\\n', count) "
      ],
      "execution_count": 18,
      "outputs": [
        {
          "output_type": "stream",
          "text": [
            "Count:\n",
            " 13\n"
          ],
          "name": "stdout"
        }
      ]
    },
    {
      "metadata": {
        "id": "8AONpcxuUlID",
        "colab_type": "code",
        "colab": {
          "base_uri": "https://localhost:8080/",
          "height": 51
        },
        "outputId": "268cfe33-6f65-466c-92ef-c4f8f37ec268"
      },
      "cell_type": "code",
      "source": [
        "### CNN \n",
        "input = Input((None, None, 2))\n",
        "conv2d = Conv2D(kernel_size =2, filters =3)(input)\n",
        "model = Model(input, conv2d)\n",
        "count = model.count_params()\n",
        "print('Count\\n', count) "
      ],
      "execution_count": 19,
      "outputs": [
        {
          "output_type": "stream",
          "text": [
            "Count\n",
            " 27\n"
          ],
          "name": "stdout"
        }
      ]
    }
  ]
}