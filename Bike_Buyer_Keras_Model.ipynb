{
  "nbformat": 4,
  "nbformat_minor": 0,
  "metadata": {
    "colab": {
      "name": "Bike_Buyer_Keras_Model.ipynb",
      "version": "0.3.2",
      "provenance": [],
      "collapsed_sections": [],
      "include_colab_link": true
    },
    "kernelspec": {
      "name": "python3",
      "display_name": "Python 3"
    },
    "accelerator": "GPU"
  },
  "cells": [
    {
      "cell_type": "markdown",
      "metadata": {
        "id": "view-in-github",
        "colab_type": "text"
      },
      "source": [
        "<a href=\"https://colab.research.google.com/github/paulgureghian/Deep_Learning_with_Keras/blob/master/Bike_Buyer_Keras_Model.ipynb\" target=\"_parent\"><img src=\"https://colab.research.google.com/assets/colab-badge.svg\" alt=\"Open In Colab\"/></a>"
      ]
    },
    {
      "metadata": {
        "id": "-ZdVydpYivGL",
        "colab_type": "text"
      },
      "cell_type": "markdown",
      "source": [
        "**Created by Paul A. Gureghian in Jan 2019.**"
      ]
    },
    {
      "metadata": {
        "id": "GvbYhVGghO0f",
        "colab_type": "text"
      },
      "cell_type": "markdown",
      "source": [
        "**I will use Keras to build a DL model to predict  whether someone will buy a bike**\n",
        "**based on some predictor variables.**"
      ]
    },
    {
      "metadata": {
        "id": "7e8MuQ7XhO0f",
        "colab_type": "text"
      },
      "cell_type": "markdown",
      "source": [
        "This notebook focuses on a specific sub-field of machine learning called **predictive modeling.**\n",
        "\n",
        "Within predicitve modeling is a speciality or another sub-field called **deep learning.**\n",
        "\n",
        "I will craft a binary deep learning model with a library called Keras. \n",
        "\n",
        "It will just predict one of two outcomes: positive or negative. \n",
        "\n",
        "I will use a 'Bike Buyer' csv dataset.  BBCN. "
      ]
    },
    {
      "metadata": {
        "id": "NG1_Q5SlrXML",
        "colab_type": "code",
        "colab": {
          "base_uri": "https://localhost:8080/",
          "height": 34
        },
        "outputId": "a7bfea99-738a-4c84-8d90-bcd665e902c7"
      },
      "cell_type": "code",
      "source": [
        "### Mount Google drive\n",
        "from google.colab import drive\n",
        "drive.mount('/content/drive')"
      ],
      "execution_count": 13,
      "outputs": [
        {
          "output_type": "stream",
          "text": [
            "Drive already mounted at /content/drive; to attempt to forcibly remount, call drive.mount(\"/content/drive\", force_remount=True).\n"
          ],
          "name": "stdout"
        }
      ]
    },
    {
      "metadata": {
        "id": "QwhqgWEdhO0f",
        "colab_type": "text"
      },
      "cell_type": "markdown",
      "source": [
        "# Step 1. Import our packages."
      ]
    },
    {
      "metadata": {
        "id": "lXz3M4XvhO0f",
        "colab_type": "code",
        "colab": {}
      },
      "cell_type": "code",
      "source": [
        "### Import packages\n",
        "import numpy as np\n",
        "import pandas as pd\n",
        "from keras.layers import Dense\n",
        "from keras.models import Sequential"
      ],
      "execution_count": 0,
      "outputs": []
    },
    {
      "metadata": {
        "id": "PQEPehJghO0u",
        "colab_type": "text"
      },
      "cell_type": "markdown",
      "source": [
        "# Step 2.  Set our random seed.\n"
      ]
    },
    {
      "metadata": {
        "id": "qQtk9VxWhO0u",
        "colab_type": "text"
      },
      "cell_type": "markdown",
      "source": [
        "**The only purpose of seeding is to get the same result on the same data.**"
      ]
    },
    {
      "metadata": {
        "id": "ETAGm1-ZhO0u",
        "colab_type": "code",
        "colab": {}
      },
      "cell_type": "code",
      "source": [
        "### Set random seed\n",
        "seed = 9\n",
        "np.random.seed(seed)"
      ],
      "execution_count": 0,
      "outputs": []
    },
    {
      "metadata": {
        "id": "E9sUILzqhO0u",
        "colab_type": "text"
      },
      "cell_type": "markdown",
      "source": [
        "# Step 3.  Import the data set.\n"
      ]
    },
    {
      "metadata": {
        "id": "ihSBuwLRhO0_",
        "colab_type": "text"
      },
      "cell_type": "markdown",
      "source": [
        "**I define a variable called 'bbcn' and put the data set in it.**  "
      ]
    },
    {
      "metadata": {
        "id": "_YPZv_ZRhO1A",
        "colab_type": "code",
        "colab": {
          "base_uri": "https://localhost:8080/",
          "height": 204
        },
        "outputId": "b6f10b84-67a1-40df-990c-46516e863b07"
      },
      "cell_type": "code",
      "source": [
        "### Import the dataset\n",
        "bike_buyer = ('/content/drive/My Drive/Bike_Buyer/bike_buyer.csv')\n",
        "df = pd.read_csv(bike_buyer)\n",
        "df.head()"
      ],
      "execution_count": 16,
      "outputs": [
        {
          "output_type": "execute_result",
          "data": {
            "text/html": [
              "<div>\n",
              "<style scoped>\n",
              "    .dataframe tbody tr th:only-of-type {\n",
              "        vertical-align: middle;\n",
              "    }\n",
              "\n",
              "    .dataframe tbody tr th {\n",
              "        vertical-align: top;\n",
              "    }\n",
              "\n",
              "    .dataframe thead th {\n",
              "        text-align: right;\n",
              "    }\n",
              "</style>\n",
              "<table border=\"1\" class=\"dataframe\">\n",
              "  <thead>\n",
              "    <tr style=\"text-align: right;\">\n",
              "      <th></th>\n",
              "      <th>MaritalStatus</th>\n",
              "      <th>Gender</th>\n",
              "      <th>YearlyIncome</th>\n",
              "      <th>TotalChildren</th>\n",
              "      <th>NumberChildrenAtHome</th>\n",
              "      <th>EnglishEducation</th>\n",
              "      <th>HouseOwnerFlag</th>\n",
              "      <th>NumberCarsOwned</th>\n",
              "      <th>CommuteDistance</th>\n",
              "      <th>Region</th>\n",
              "      <th>Age</th>\n",
              "      <th>BikeBuyer</th>\n",
              "    </tr>\n",
              "  </thead>\n",
              "  <tbody>\n",
              "    <tr>\n",
              "      <th>0</th>\n",
              "      <td>5</td>\n",
              "      <td>1</td>\n",
              "      <td>9.0</td>\n",
              "      <td>2</td>\n",
              "      <td>0</td>\n",
              "      <td>5</td>\n",
              "      <td>1</td>\n",
              "      <td>0</td>\n",
              "      <td>2</td>\n",
              "      <td>2</td>\n",
              "      <td>5</td>\n",
              "      <td>1</td>\n",
              "    </tr>\n",
              "    <tr>\n",
              "      <th>1</th>\n",
              "      <td>5</td>\n",
              "      <td>1</td>\n",
              "      <td>6.0</td>\n",
              "      <td>3</td>\n",
              "      <td>3</td>\n",
              "      <td>5</td>\n",
              "      <td>0</td>\n",
              "      <td>1</td>\n",
              "      <td>1</td>\n",
              "      <td>2</td>\n",
              "      <td>4</td>\n",
              "      <td>1</td>\n",
              "    </tr>\n",
              "    <tr>\n",
              "      <th>2</th>\n",
              "      <td>5</td>\n",
              "      <td>1</td>\n",
              "      <td>6.0</td>\n",
              "      <td>3</td>\n",
              "      <td>3</td>\n",
              "      <td>5</td>\n",
              "      <td>1</td>\n",
              "      <td>1</td>\n",
              "      <td>5</td>\n",
              "      <td>2</td>\n",
              "      <td>4</td>\n",
              "      <td>1</td>\n",
              "    </tr>\n",
              "    <tr>\n",
              "      <th>3</th>\n",
              "      <td>5</td>\n",
              "      <td>2</td>\n",
              "      <td>7.0</td>\n",
              "      <td>0</td>\n",
              "      <td>0</td>\n",
              "      <td>5</td>\n",
              "      <td>0</td>\n",
              "      <td>1</td>\n",
              "      <td>10</td>\n",
              "      <td>2</td>\n",
              "      <td>5</td>\n",
              "      <td>1</td>\n",
              "    </tr>\n",
              "    <tr>\n",
              "      <th>4</th>\n",
              "      <td>5</td>\n",
              "      <td>2</td>\n",
              "      <td>8.0</td>\n",
              "      <td>5</td>\n",
              "      <td>5</td>\n",
              "      <td>5</td>\n",
              "      <td>1</td>\n",
              "      <td>4</td>\n",
              "      <td>2</td>\n",
              "      <td>2</td>\n",
              "      <td>5</td>\n",
              "      <td>1</td>\n",
              "    </tr>\n",
              "  </tbody>\n",
              "</table>\n",
              "</div>"
            ],
            "text/plain": [
              "   MaritalStatus  Gender  YearlyIncome  TotalChildren  NumberChildrenAtHome  \\\n",
              "0              5       1           9.0              2                     0   \n",
              "1              5       1           6.0              3                     3   \n",
              "2              5       1           6.0              3                     3   \n",
              "3              5       2           7.0              0                     0   \n",
              "4              5       2           8.0              5                     5   \n",
              "\n",
              "   EnglishEducation  HouseOwnerFlag  NumberCarsOwned  CommuteDistance  Region  \\\n",
              "0                 5               1                0                2       2   \n",
              "1                 5               0                1                1       2   \n",
              "2                 5               1                1                5       2   \n",
              "3                 5               0                1               10       2   \n",
              "4                 5               1                4                2       2   \n",
              "\n",
              "   Age  BikeBuyer  \n",
              "0    5          1  \n",
              "1    4          1  \n",
              "2    4          1  \n",
              "3    5          1  \n",
              "4    5          1  "
            ]
          },
          "metadata": {
            "tags": []
          },
          "execution_count": 16
        }
      ]
    },
    {
      "metadata": {
        "id": "oN4Bfd4ThO1E",
        "colab_type": "text"
      },
      "cell_type": "markdown",
      "source": [
        "# Step 4.  Split the Output Variables.\n"
      ]
    },
    {
      "metadata": {
        "id": "tvR3ZyG5hO1G",
        "colab_type": "text"
      },
      "cell_type": "markdown",
      "source": [
        "**The first thing I will do is put the data in an array data type structure.** "
      ]
    },
    {
      "metadata": {
        "id": "rrEX7hR2hO1I",
        "colab_type": "code",
        "colab": {
          "base_uri": "https://localhost:8080/",
          "height": 136
        },
        "outputId": "3b547ac9-82d0-4639-af00-1bcc70bc4726"
      },
      "cell_type": "code",
      "source": [
        "### Store dataset values\n",
        "array = df.values\n",
        "print(array)"
      ],
      "execution_count": 17,
      "outputs": [
        {
          "output_type": "stream",
          "text": [
            "[[5. 1. 9. ... 2. 5. 1.]\n",
            " [5. 1. 6. ... 2. 4. 1.]\n",
            " [5. 1. 6. ... 2. 4. 1.]\n",
            " ...\n",
            " [3. 2. 4. ... 3. 5. 0.]\n",
            " [3. 1. 4. ... 1. 4. 0.]\n",
            " [3. 1. 4. ... 1. 4. 0.]]\n"
          ],
          "name": "stdout"
        }
      ]
    },
    {
      "metadata": {
        "id": "-xinufglhO1L",
        "colab_type": "text"
      },
      "cell_type": "markdown",
      "source": [
        "**Define X(features) and y(target).**"
      ]
    },
    {
      "metadata": {
        "id": "Kvc90el-hO1P",
        "colab_type": "code",
        "colab": {
          "base_uri": "https://localhost:8080/",
          "height": 646
        },
        "outputId": "f141f8dc-93f0-4648-acf1-8f4c1511425f"
      },
      "cell_type": "code",
      "source": [
        "### Define X and y\n",
        "X = array[:,0:11] \n",
        "y = array[:,11]\n",
        "\n",
        "print('X_shape:\\n', X.shape, '\\n')\n",
        "print('X:\\n', X, '\\n')\n",
        "print('y_shape:\\n', y.shape, '\\n')\n",
        "print('y:\\n', y)"
      ],
      "execution_count": 18,
      "outputs": [
        {
          "output_type": "stream",
          "text": [
            "X_shape:\n",
            " (500, 11) \n",
            "\n",
            "X:\n",
            " [[5. 1. 9. ... 2. 2. 5.]\n",
            " [5. 1. 6. ... 1. 2. 4.]\n",
            " [5. 1. 6. ... 5. 2. 4.]\n",
            " ...\n",
            " [3. 2. 4. ... 2. 3. 5.]\n",
            " [3. 1. 4. ... 2. 1. 4.]\n",
            " [3. 1. 4. ... 2. 1. 4.]] \n",
            "\n",
            "y_shape:\n",
            " (500,) \n",
            "\n",
            "y:\n",
            " [1. 1. 1. 1. 1. 1. 1. 1. 1. 1. 1. 1. 0. 0. 0. 1. 1. 1. 1. 0. 1. 1. 1. 0.\n",
            " 0. 1. 1. 1. 1. 1. 1. 1. 1. 1. 1. 1. 1. 1. 1. 1. 1. 1. 1. 0. 1. 0. 1. 1.\n",
            " 1. 0. 1. 0. 1. 1. 1. 1. 1. 1. 1. 0. 1. 1. 1. 1. 1. 0. 0. 0. 0. 1. 1. 0.\n",
            " 1. 0. 0. 1. 1. 1. 0. 0. 1. 0. 1. 1. 1. 0. 0. 0. 1. 1. 1. 0. 1. 1. 0. 1.\n",
            " 1. 1. 0. 1. 1. 1. 0. 1. 1. 1. 1. 1. 1. 1. 1. 1. 1. 0. 0. 0. 0. 1. 0. 0.\n",
            " 1. 0. 0. 0. 1. 0. 1. 0. 0. 1. 0. 0. 1. 0. 1. 1. 1. 0. 0. 0. 0. 0. 0. 0.\n",
            " 1. 1. 0. 1. 0. 0. 0. 1. 1. 0. 1. 1. 1. 0. 1. 0. 1. 0. 1. 0. 0. 0. 0. 1.\n",
            " 1. 0. 0. 1. 0. 0. 0. 1. 0. 0. 0. 0. 0. 0. 0. 0. 0. 0. 0. 0. 0. 1. 0. 1.\n",
            " 0. 0. 0. 0. 0. 0. 0. 0. 0. 0. 0. 0. 0. 0. 0. 0. 0. 0. 0. 0. 0. 0. 0. 0.\n",
            " 1. 1. 0. 0. 0. 0. 0. 0. 1. 0. 0. 1. 0. 0. 0. 0. 0. 0. 0. 0. 0. 1. 1. 1.\n",
            " 1. 1. 1. 1. 1. 1. 1. 1. 0. 1. 1. 1. 1. 0. 0. 0. 0. 1. 0. 1. 0. 1. 0. 1.\n",
            " 1. 1. 1. 1. 0. 0. 1. 1. 1. 0. 1. 1. 0. 0. 1. 0. 0. 1. 1. 0. 0. 0. 1. 0.\n",
            " 0. 1. 1. 1. 1. 0. 0. 1. 1. 1. 1. 1. 0. 0. 1. 1. 0. 0. 0. 1. 0. 0. 0. 0.\n",
            " 0. 0. 0. 0. 1. 1. 0. 1. 0. 0. 0. 1. 1. 1. 1. 1. 1. 1. 0. 0. 1. 1. 1. 1.\n",
            " 1. 1. 1. 1. 1. 1. 0. 1. 1. 1. 1. 0. 0. 0. 0. 1. 0. 1. 0. 0. 1. 1. 1. 1.\n",
            " 1. 0. 0. 1. 1. 1. 0. 0. 1. 0. 0. 0. 1. 0. 0. 0. 0. 0. 1. 1. 1. 1. 1. 0.\n",
            " 0. 0. 0. 1. 1. 0. 0. 0. 0. 0. 1. 1. 0. 0. 1. 0. 1. 1. 1. 1. 0. 0. 1. 0.\n",
            " 0. 1. 1. 0. 1. 1. 1. 0. 1. 1. 0. 0. 1. 1. 1. 1. 0. 1. 0. 1. 1. 1. 0. 1.\n",
            " 1. 1. 0. 0. 0. 0. 0. 1. 0. 0. 0. 1. 1. 1. 1. 1. 1. 1. 1. 1. 1. 1. 1. 1.\n",
            " 1. 1. 0. 1. 1. 1. 1. 0. 1. 1. 0. 0. 1. 0. 1. 0. 1. 0. 0. 0. 0. 0. 0. 1.\n",
            " 1. 1. 1. 1. 1. 1. 0. 0. 1. 1. 0. 1. 1. 1. 1. 0. 1. 0. 0. 0.]\n"
          ],
          "name": "stdout"
        }
      ]
    },
    {
      "metadata": {
        "id": "j0ndhqo9hO1T",
        "colab_type": "code",
        "colab": {
          "base_uri": "https://localhost:8080/",
          "height": 204
        },
        "outputId": "0e94df86-44a2-4c7c-bc80-d5e8f35cd35e"
      },
      "cell_type": "code",
      "source": [
        "### Print dataset\n",
        "df.head()"
      ],
      "execution_count": 19,
      "outputs": [
        {
          "output_type": "execute_result",
          "data": {
            "text/html": [
              "<div>\n",
              "<style scoped>\n",
              "    .dataframe tbody tr th:only-of-type {\n",
              "        vertical-align: middle;\n",
              "    }\n",
              "\n",
              "    .dataframe tbody tr th {\n",
              "        vertical-align: top;\n",
              "    }\n",
              "\n",
              "    .dataframe thead th {\n",
              "        text-align: right;\n",
              "    }\n",
              "</style>\n",
              "<table border=\"1\" class=\"dataframe\">\n",
              "  <thead>\n",
              "    <tr style=\"text-align: right;\">\n",
              "      <th></th>\n",
              "      <th>MaritalStatus</th>\n",
              "      <th>Gender</th>\n",
              "      <th>YearlyIncome</th>\n",
              "      <th>TotalChildren</th>\n",
              "      <th>NumberChildrenAtHome</th>\n",
              "      <th>EnglishEducation</th>\n",
              "      <th>HouseOwnerFlag</th>\n",
              "      <th>NumberCarsOwned</th>\n",
              "      <th>CommuteDistance</th>\n",
              "      <th>Region</th>\n",
              "      <th>Age</th>\n",
              "      <th>BikeBuyer</th>\n",
              "    </tr>\n",
              "  </thead>\n",
              "  <tbody>\n",
              "    <tr>\n",
              "      <th>0</th>\n",
              "      <td>5</td>\n",
              "      <td>1</td>\n",
              "      <td>9.0</td>\n",
              "      <td>2</td>\n",
              "      <td>0</td>\n",
              "      <td>5</td>\n",
              "      <td>1</td>\n",
              "      <td>0</td>\n",
              "      <td>2</td>\n",
              "      <td>2</td>\n",
              "      <td>5</td>\n",
              "      <td>1</td>\n",
              "    </tr>\n",
              "    <tr>\n",
              "      <th>1</th>\n",
              "      <td>5</td>\n",
              "      <td>1</td>\n",
              "      <td>6.0</td>\n",
              "      <td>3</td>\n",
              "      <td>3</td>\n",
              "      <td>5</td>\n",
              "      <td>0</td>\n",
              "      <td>1</td>\n",
              "      <td>1</td>\n",
              "      <td>2</td>\n",
              "      <td>4</td>\n",
              "      <td>1</td>\n",
              "    </tr>\n",
              "    <tr>\n",
              "      <th>2</th>\n",
              "      <td>5</td>\n",
              "      <td>1</td>\n",
              "      <td>6.0</td>\n",
              "      <td>3</td>\n",
              "      <td>3</td>\n",
              "      <td>5</td>\n",
              "      <td>1</td>\n",
              "      <td>1</td>\n",
              "      <td>5</td>\n",
              "      <td>2</td>\n",
              "      <td>4</td>\n",
              "      <td>1</td>\n",
              "    </tr>\n",
              "    <tr>\n",
              "      <th>3</th>\n",
              "      <td>5</td>\n",
              "      <td>2</td>\n",
              "      <td>7.0</td>\n",
              "      <td>0</td>\n",
              "      <td>0</td>\n",
              "      <td>5</td>\n",
              "      <td>0</td>\n",
              "      <td>1</td>\n",
              "      <td>10</td>\n",
              "      <td>2</td>\n",
              "      <td>5</td>\n",
              "      <td>1</td>\n",
              "    </tr>\n",
              "    <tr>\n",
              "      <th>4</th>\n",
              "      <td>5</td>\n",
              "      <td>2</td>\n",
              "      <td>8.0</td>\n",
              "      <td>5</td>\n",
              "      <td>5</td>\n",
              "      <td>5</td>\n",
              "      <td>1</td>\n",
              "      <td>4</td>\n",
              "      <td>2</td>\n",
              "      <td>2</td>\n",
              "      <td>5</td>\n",
              "      <td>1</td>\n",
              "    </tr>\n",
              "  </tbody>\n",
              "</table>\n",
              "</div>"
            ],
            "text/plain": [
              "   MaritalStatus  Gender  YearlyIncome  TotalChildren  NumberChildrenAtHome  \\\n",
              "0              5       1           9.0              2                     0   \n",
              "1              5       1           6.0              3                     3   \n",
              "2              5       1           6.0              3                     3   \n",
              "3              5       2           7.0              0                     0   \n",
              "4              5       2           8.0              5                     5   \n",
              "\n",
              "   EnglishEducation  HouseOwnerFlag  NumberCarsOwned  CommuteDistance  Region  \\\n",
              "0                 5               1                0                2       2   \n",
              "1                 5               0                1                1       2   \n",
              "2                 5               1                1                5       2   \n",
              "3                 5               0                1               10       2   \n",
              "4                 5               1                4                2       2   \n",
              "\n",
              "   Age  BikeBuyer  \n",
              "0    5          1  \n",
              "1    4          1  \n",
              "2    4          1  \n",
              "3    5          1  \n",
              "4    5          1  "
            ]
          },
          "metadata": {
            "tags": []
          },
          "execution_count": 19
        }
      ]
    },
    {
      "metadata": {
        "id": "s1Fw00CHhO1X",
        "colab_type": "text"
      },
      "cell_type": "markdown",
      "source": [
        "# Step 5.  Build the Model.\n"
      ]
    },
    {
      "metadata": {
        "id": "iG453zW5hO1Y",
        "colab_type": "text"
      },
      "cell_type": "markdown",
      "source": [
        "**The first layer has 11 neurons and expects 11 input variables.** \n",
        "\n",
        "**The second hidden layer has 8 neurons.**\n",
        "\n",
        "**The third hidden layer has 8 neurons.** \n",
        "\n",
        "**The output layer has 1 neuron to predict the class.** "
      ]
    },
    {
      "metadata": {
        "id": "r0HgU2zDhO1a",
        "colab_type": "code",
        "colab": {
          "base_uri": "https://localhost:8080/",
          "height": 153
        },
        "outputId": "37bff836-ebef-4e10-8500-46b3d4c7f28f"
      },
      "cell_type": "code",
      "source": [
        "### Define the model \n",
        "model = Sequential()\n",
        "model.add(Dense(11, input_dim=11, init='uniform', activation='relu'))\n",
        "model.add(Dense(8, init='uniform', activation='relu'))\n",
        "model.add(Dense(8, init='uniform', activation='relu')) \n",
        "model.add(Dense(1, init='uniform', activation='sigmoid'))"
      ],
      "execution_count": 20,
      "outputs": [
        {
          "output_type": "stream",
          "text": [
            "/usr/local/lib/python3.6/dist-packages/ipykernel_launcher.py:2: UserWarning: Update your `Dense` call to the Keras 2 API: `Dense(11, input_dim=11, activation=\"relu\", kernel_initializer=\"uniform\")`\n",
            "  \n",
            "/usr/local/lib/python3.6/dist-packages/ipykernel_launcher.py:3: UserWarning: Update your `Dense` call to the Keras 2 API: `Dense(8, activation=\"relu\", kernel_initializer=\"uniform\")`\n",
            "  This is separate from the ipykernel package so we can avoid doing imports until\n",
            "/usr/local/lib/python3.6/dist-packages/ipykernel_launcher.py:4: UserWarning: Update your `Dense` call to the Keras 2 API: `Dense(8, activation=\"relu\", kernel_initializer=\"uniform\")`\n",
            "  after removing the cwd from sys.path.\n",
            "/usr/local/lib/python3.6/dist-packages/ipykernel_launcher.py:5: UserWarning: Update your `Dense` call to the Keras 2 API: `Dense(1, activation=\"sigmoid\", kernel_initializer=\"uniform\")`\n",
            "  \"\"\"\n"
          ],
          "name": "stderr"
        }
      ]
    },
    {
      "metadata": {
        "id": "vfPsWtqjhO1e",
        "colab_type": "text"
      },
      "cell_type": "markdown",
      "source": [
        "# Step 6.  Compile the Model."
      ]
    },
    {
      "metadata": {
        "id": "FZSFUY26hO1f",
        "colab_type": "text"
      },
      "cell_type": "markdown",
      "source": [
        "* **The 'loss' is the difference the predicted values and the actual values.**\n",
        "* **The optimizer adjusts the weights so the loss can be reduced.**\n",
        "* **A metric is a function that is used to judge the performance of the model.** "
      ]
    },
    {
      "metadata": {
        "id": "kIK0n541hO1g",
        "colab_type": "code",
        "colab": {}
      },
      "cell_type": "code",
      "source": [
        "### Compile the model\n",
        "model.compile(loss='binary_crossentropy', optimizer='adam', metrics=['accuracy'])"
      ],
      "execution_count": 0,
      "outputs": []
    },
    {
      "metadata": {
        "id": "Z-cXNCxmhO1g",
        "colab_type": "text"
      },
      "cell_type": "markdown",
      "source": [
        "# Step 7.  Fit the Model."
      ]
    },
    {
      "metadata": {
        "id": "TJWrZPBKhO1g",
        "colab_type": "text"
      },
      "cell_type": "markdown",
      "source": [
        "**Set the training hyperparameters.**\n",
        "\n",
        "* **Epoch:** A full pass over all of the training dataset.\n",
        "\n",
        "* **Batch_Size:** Denotes the subset size of the training dataset. "
      ]
    },
    {
      "metadata": {
        "id": "aPPkirjBhO1g",
        "colab_type": "code",
        "colab": {
          "base_uri": "https://localhost:8080/",
          "height": 6868
        },
        "outputId": "f59dee31-0ec7-4616-ebe9-cadb16edf40e"
      },
      "cell_type": "code",
      "source": [
        "### Train the model\n",
        "model.fit(X, y, nb_epoch=200, batch_size=30)"
      ],
      "execution_count": 22,
      "outputs": [
        {
          "output_type": "stream",
          "text": [
            "/usr/local/lib/python3.6/dist-packages/ipykernel_launcher.py:1: UserWarning: The `nb_epoch` argument in `fit` has been renamed `epochs`.\n",
            "  \"\"\"Entry point for launching an IPython kernel.\n"
          ],
          "name": "stderr"
        },
        {
          "output_type": "stream",
          "text": [
            "Epoch 1/200\n",
            "500/500 [==============================] - 0s 746us/step - loss: 0.6931 - acc: 0.5320\n",
            "Epoch 2/200\n",
            "500/500 [==============================] - 0s 176us/step - loss: 0.6928 - acc: 0.5340\n",
            "Epoch 3/200\n",
            "500/500 [==============================] - 0s 176us/step - loss: 0.6926 - acc: 0.5340\n",
            "Epoch 4/200\n",
            "500/500 [==============================] - 0s 170us/step - loss: 0.6924 - acc: 0.5340\n",
            "Epoch 5/200\n",
            "500/500 [==============================] - 0s 180us/step - loss: 0.6921 - acc: 0.5340\n",
            "Epoch 6/200\n",
            "500/500 [==============================] - 0s 164us/step - loss: 0.6917 - acc: 0.5340\n",
            "Epoch 7/200\n",
            "500/500 [==============================] - 0s 164us/step - loss: 0.6910 - acc: 0.5340\n",
            "Epoch 8/200\n",
            "500/500 [==============================] - 0s 189us/step - loss: 0.6902 - acc: 0.5340\n",
            "Epoch 9/200\n",
            "500/500 [==============================] - 0s 167us/step - loss: 0.6891 - acc: 0.5340\n",
            "Epoch 10/200\n",
            "500/500 [==============================] - 0s 157us/step - loss: 0.6879 - acc: 0.5340\n",
            "Epoch 11/200\n",
            "500/500 [==============================] - 0s 168us/step - loss: 0.6860 - acc: 0.5340\n",
            "Epoch 12/200\n",
            "500/500 [==============================] - 0s 173us/step - loss: 0.6837 - acc: 0.5340\n",
            "Epoch 13/200\n",
            "500/500 [==============================] - 0s 177us/step - loss: 0.6806 - acc: 0.5340\n",
            "Epoch 14/200\n",
            "500/500 [==============================] - 0s 181us/step - loss: 0.6777 - acc: 0.5340\n",
            "Epoch 15/200\n",
            "500/500 [==============================] - 0s 165us/step - loss: 0.6742 - acc: 0.5340\n",
            "Epoch 16/200\n",
            "500/500 [==============================] - 0s 175us/step - loss: 0.6702 - acc: 0.5340\n",
            "Epoch 17/200\n",
            "500/500 [==============================] - 0s 195us/step - loss: 0.6671 - acc: 0.5300\n",
            "Epoch 18/200\n",
            "500/500 [==============================] - 0s 199us/step - loss: 0.6647 - acc: 0.5900\n",
            "Epoch 19/200\n",
            "500/500 [==============================] - 0s 208us/step - loss: 0.6622 - acc: 0.6220\n",
            "Epoch 20/200\n",
            "500/500 [==============================] - 0s 235us/step - loss: 0.6590 - acc: 0.6240\n",
            "Epoch 21/200\n",
            "500/500 [==============================] - 0s 191us/step - loss: 0.6560 - acc: 0.6140\n",
            "Epoch 22/200\n",
            "500/500 [==============================] - 0s 199us/step - loss: 0.6546 - acc: 0.6140\n",
            "Epoch 23/200\n",
            "500/500 [==============================] - 0s 204us/step - loss: 0.6522 - acc: 0.5940\n",
            "Epoch 24/200\n",
            "500/500 [==============================] - 0s 191us/step - loss: 0.6494 - acc: 0.6140\n",
            "Epoch 25/200\n",
            "500/500 [==============================] - 0s 191us/step - loss: 0.6482 - acc: 0.6020\n",
            "Epoch 26/200\n",
            "500/500 [==============================] - 0s 194us/step - loss: 0.6467 - acc: 0.6160\n",
            "Epoch 27/200\n",
            "500/500 [==============================] - 0s 208us/step - loss: 0.6441 - acc: 0.6060\n",
            "Epoch 28/200\n",
            "500/500 [==============================] - 0s 202us/step - loss: 0.6403 - acc: 0.6180\n",
            "Epoch 29/200\n",
            "500/500 [==============================] - 0s 197us/step - loss: 0.6370 - acc: 0.6160\n",
            "Epoch 30/200\n",
            "500/500 [==============================] - 0s 226us/step - loss: 0.6338 - acc: 0.6220\n",
            "Epoch 31/200\n",
            "500/500 [==============================] - 0s 194us/step - loss: 0.6324 - acc: 0.6180\n",
            "Epoch 32/200\n",
            "500/500 [==============================] - 0s 197us/step - loss: 0.6307 - acc: 0.6100\n",
            "Epoch 33/200\n",
            "500/500 [==============================] - 0s 209us/step - loss: 0.6279 - acc: 0.6200\n",
            "Epoch 34/200\n",
            "500/500 [==============================] - 0s 199us/step - loss: 0.6264 - acc: 0.6300\n",
            "Epoch 35/200\n",
            "500/500 [==============================] - 0s 192us/step - loss: 0.6222 - acc: 0.6300\n",
            "Epoch 36/200\n",
            "500/500 [==============================] - 0s 191us/step - loss: 0.6183 - acc: 0.6200\n",
            "Epoch 37/200\n",
            "500/500 [==============================] - 0s 192us/step - loss: 0.6171 - acc: 0.6320\n",
            "Epoch 38/200\n",
            "500/500 [==============================] - 0s 189us/step - loss: 0.6141 - acc: 0.6220\n",
            "Epoch 39/200\n",
            "500/500 [==============================] - 0s 195us/step - loss: 0.6108 - acc: 0.6320\n",
            "Epoch 40/200\n",
            "500/500 [==============================] - 0s 227us/step - loss: 0.6102 - acc: 0.6320\n",
            "Epoch 41/200\n",
            "500/500 [==============================] - 0s 196us/step - loss: 0.6099 - acc: 0.6440\n",
            "Epoch 42/200\n",
            "500/500 [==============================] - 0s 190us/step - loss: 0.6085 - acc: 0.6380\n",
            "Epoch 43/200\n",
            "500/500 [==============================] - 0s 198us/step - loss: 0.6048 - acc: 0.6400\n",
            "Epoch 44/200\n",
            "500/500 [==============================] - 0s 202us/step - loss: 0.6042 - acc: 0.6280\n",
            "Epoch 45/200\n",
            "500/500 [==============================] - 0s 208us/step - loss: 0.6019 - acc: 0.6640\n",
            "Epoch 46/200\n",
            "500/500 [==============================] - 0s 195us/step - loss: 0.6033 - acc: 0.6480\n",
            "Epoch 47/200\n",
            "500/500 [==============================] - 0s 201us/step - loss: 0.6018 - acc: 0.6440\n",
            "Epoch 48/200\n",
            "500/500 [==============================] - 0s 215us/step - loss: 0.6038 - acc: 0.6560\n",
            "Epoch 49/200\n",
            "500/500 [==============================] - 0s 197us/step - loss: 0.5965 - acc: 0.6740\n",
            "Epoch 50/200\n",
            "500/500 [==============================] - 0s 256us/step - loss: 0.5978 - acc: 0.6740\n",
            "Epoch 51/200\n",
            "500/500 [==============================] - 0s 197us/step - loss: 0.5944 - acc: 0.6740\n",
            "Epoch 52/200\n",
            "500/500 [==============================] - 0s 203us/step - loss: 0.5975 - acc: 0.6700\n",
            "Epoch 53/200\n",
            "500/500 [==============================] - 0s 191us/step - loss: 0.5946 - acc: 0.6840\n",
            "Epoch 54/200\n",
            "500/500 [==============================] - 0s 188us/step - loss: 0.5930 - acc: 0.6840\n",
            "Epoch 55/200\n",
            "500/500 [==============================] - 0s 203us/step - loss: 0.5919 - acc: 0.6700\n",
            "Epoch 56/200\n",
            "500/500 [==============================] - 0s 195us/step - loss: 0.5944 - acc: 0.6880\n",
            "Epoch 57/200\n",
            "500/500 [==============================] - 0s 196us/step - loss: 0.5920 - acc: 0.6940\n",
            "Epoch 58/200\n",
            "500/500 [==============================] - 0s 208us/step - loss: 0.5936 - acc: 0.6560\n",
            "Epoch 59/200\n",
            "500/500 [==============================] - 0s 191us/step - loss: 0.5937 - acc: 0.6800\n",
            "Epoch 60/200\n",
            "500/500 [==============================] - 0s 217us/step - loss: 0.5896 - acc: 0.6880\n",
            "Epoch 61/200\n",
            "500/500 [==============================] - 0s 198us/step - loss: 0.5887 - acc: 0.6840\n",
            "Epoch 62/200\n",
            "500/500 [==============================] - 0s 203us/step - loss: 0.5885 - acc: 0.6760\n",
            "Epoch 63/200\n",
            "500/500 [==============================] - 0s 195us/step - loss: 0.5909 - acc: 0.6860\n",
            "Epoch 64/200\n",
            "500/500 [==============================] - 0s 209us/step - loss: 0.5977 - acc: 0.6700\n",
            "Epoch 65/200\n",
            "500/500 [==============================] - 0s 198us/step - loss: 0.5928 - acc: 0.6800\n",
            "Epoch 66/200\n",
            "500/500 [==============================] - 0s 187us/step - loss: 0.5881 - acc: 0.6880\n",
            "Epoch 67/200\n",
            "500/500 [==============================] - 0s 197us/step - loss: 0.5871 - acc: 0.6880\n",
            "Epoch 68/200\n",
            "500/500 [==============================] - 0s 202us/step - loss: 0.5845 - acc: 0.6820\n",
            "Epoch 69/200\n",
            "500/500 [==============================] - 0s 194us/step - loss: 0.5877 - acc: 0.6840\n",
            "Epoch 70/200\n",
            "500/500 [==============================] - 0s 223us/step - loss: 0.5871 - acc: 0.6760\n",
            "Epoch 71/200\n",
            "500/500 [==============================] - 0s 203us/step - loss: 0.5922 - acc: 0.6720\n",
            "Epoch 72/200\n",
            "500/500 [==============================] - 0s 194us/step - loss: 0.5894 - acc: 0.6740\n",
            "Epoch 73/200\n",
            "500/500 [==============================] - 0s 207us/step - loss: 0.5835 - acc: 0.6860\n",
            "Epoch 74/200\n",
            "500/500 [==============================] - 0s 193us/step - loss: 0.5826 - acc: 0.6780\n",
            "Epoch 75/200\n",
            "500/500 [==============================] - 0s 201us/step - loss: 0.5814 - acc: 0.6860\n",
            "Epoch 76/200\n",
            "500/500 [==============================] - 0s 194us/step - loss: 0.5814 - acc: 0.6840\n",
            "Epoch 77/200\n",
            "500/500 [==============================] - 0s 203us/step - loss: 0.5814 - acc: 0.6880\n",
            "Epoch 78/200\n",
            "500/500 [==============================] - 0s 188us/step - loss: 0.5805 - acc: 0.6820\n",
            "Epoch 79/200\n",
            "500/500 [==============================] - 0s 207us/step - loss: 0.5795 - acc: 0.6880\n",
            "Epoch 80/200\n",
            "500/500 [==============================] - 0s 208us/step - loss: 0.5800 - acc: 0.6880\n",
            "Epoch 81/200\n",
            "500/500 [==============================] - 0s 200us/step - loss: 0.5822 - acc: 0.6760\n",
            "Epoch 82/200\n",
            "500/500 [==============================] - 0s 191us/step - loss: 0.5785 - acc: 0.6820\n",
            "Epoch 83/200\n",
            "500/500 [==============================] - 0s 194us/step - loss: 0.5764 - acc: 0.6840\n",
            "Epoch 84/200\n",
            "500/500 [==============================] - 0s 190us/step - loss: 0.5778 - acc: 0.6820\n",
            "Epoch 85/200\n",
            "500/500 [==============================] - 0s 207us/step - loss: 0.5787 - acc: 0.6900\n",
            "Epoch 86/200\n",
            "500/500 [==============================] - 0s 189us/step - loss: 0.5780 - acc: 0.6800\n",
            "Epoch 87/200\n",
            "500/500 [==============================] - 0s 188us/step - loss: 0.5805 - acc: 0.6860\n",
            "Epoch 88/200\n",
            "500/500 [==============================] - 0s 197us/step - loss: 0.5830 - acc: 0.6720\n",
            "Epoch 89/200\n",
            "500/500 [==============================] - 0s 205us/step - loss: 0.5794 - acc: 0.6840\n",
            "Epoch 90/200\n",
            "500/500 [==============================] - 0s 224us/step - loss: 0.5780 - acc: 0.6880\n",
            "Epoch 91/200\n",
            "500/500 [==============================] - 0s 197us/step - loss: 0.5831 - acc: 0.6840\n",
            "Epoch 92/200\n",
            "500/500 [==============================] - 0s 191us/step - loss: 0.5748 - acc: 0.6880\n",
            "Epoch 93/200\n",
            "500/500 [==============================] - 0s 209us/step - loss: 0.5779 - acc: 0.6960\n",
            "Epoch 94/200\n",
            "500/500 [==============================] - 0s 203us/step - loss: 0.5879 - acc: 0.6660\n",
            "Epoch 95/200\n",
            "500/500 [==============================] - 0s 199us/step - loss: 0.5823 - acc: 0.6860\n",
            "Epoch 96/200\n",
            "500/500 [==============================] - 0s 204us/step - loss: 0.5776 - acc: 0.6840\n",
            "Epoch 97/200\n",
            "500/500 [==============================] - 0s 208us/step - loss: 0.5756 - acc: 0.6800\n",
            "Epoch 98/200\n",
            "500/500 [==============================] - 0s 190us/step - loss: 0.5763 - acc: 0.6900\n",
            "Epoch 99/200\n",
            "500/500 [==============================] - 0s 195us/step - loss: 0.5757 - acc: 0.6840\n",
            "Epoch 100/200\n",
            "500/500 [==============================] - 0s 213us/step - loss: 0.5744 - acc: 0.6860\n",
            "Epoch 101/200\n",
            "500/500 [==============================] - 0s 208us/step - loss: 0.5737 - acc: 0.6940\n",
            "Epoch 102/200\n",
            "500/500 [==============================] - 0s 198us/step - loss: 0.5762 - acc: 0.6900\n",
            "Epoch 103/200\n",
            "500/500 [==============================] - 0s 196us/step - loss: 0.5772 - acc: 0.6860\n",
            "Epoch 104/200\n",
            "500/500 [==============================] - 0s 196us/step - loss: 0.5741 - acc: 0.6880\n",
            "Epoch 105/200\n",
            "500/500 [==============================] - 0s 203us/step - loss: 0.5758 - acc: 0.6860\n",
            "Epoch 106/200\n",
            "500/500 [==============================] - 0s 204us/step - loss: 0.5731 - acc: 0.6920\n",
            "Epoch 107/200\n",
            "500/500 [==============================] - 0s 193us/step - loss: 0.5728 - acc: 0.6900\n",
            "Epoch 108/200\n",
            "500/500 [==============================] - 0s 196us/step - loss: 0.5729 - acc: 0.6920\n",
            "Epoch 109/200\n",
            "500/500 [==============================] - 0s 189us/step - loss: 0.5713 - acc: 0.6860\n",
            "Epoch 110/200\n",
            "500/500 [==============================] - 0s 221us/step - loss: 0.5725 - acc: 0.7000\n",
            "Epoch 111/200\n",
            "500/500 [==============================] - 0s 203us/step - loss: 0.5723 - acc: 0.6860\n",
            "Epoch 112/200\n",
            "500/500 [==============================] - 0s 205us/step - loss: 0.5750 - acc: 0.6860\n",
            "Epoch 113/200\n",
            "500/500 [==============================] - 0s 215us/step - loss: 0.5711 - acc: 0.6860\n",
            "Epoch 114/200\n",
            "500/500 [==============================] - 0s 201us/step - loss: 0.5712 - acc: 0.6900\n",
            "Epoch 115/200\n",
            "500/500 [==============================] - 0s 200us/step - loss: 0.5717 - acc: 0.6860\n",
            "Epoch 116/200\n",
            "500/500 [==============================] - 0s 193us/step - loss: 0.5735 - acc: 0.6820\n",
            "Epoch 117/200\n",
            "500/500 [==============================] - 0s 204us/step - loss: 0.5721 - acc: 0.6920\n",
            "Epoch 118/200\n",
            "500/500 [==============================] - 0s 192us/step - loss: 0.5738 - acc: 0.6960\n",
            "Epoch 119/200\n",
            "500/500 [==============================] - 0s 204us/step - loss: 0.5716 - acc: 0.6880\n",
            "Epoch 120/200\n",
            "500/500 [==============================] - 0s 219us/step - loss: 0.5707 - acc: 0.6840\n",
            "Epoch 121/200\n",
            "500/500 [==============================] - 0s 186us/step - loss: 0.5703 - acc: 0.7000\n",
            "Epoch 122/200\n",
            "500/500 [==============================] - 0s 198us/step - loss: 0.5727 - acc: 0.6940\n",
            "Epoch 123/200\n",
            "500/500 [==============================] - 0s 200us/step - loss: 0.5697 - acc: 0.7020\n",
            "Epoch 124/200\n",
            "500/500 [==============================] - 0s 200us/step - loss: 0.5724 - acc: 0.6980\n",
            "Epoch 125/200\n",
            "500/500 [==============================] - 0s 192us/step - loss: 0.5702 - acc: 0.6900\n",
            "Epoch 126/200\n",
            "500/500 [==============================] - 0s 195us/step - loss: 0.5722 - acc: 0.6920\n",
            "Epoch 127/200\n",
            "500/500 [==============================] - 0s 183us/step - loss: 0.5712 - acc: 0.7040\n",
            "Epoch 128/200\n",
            "500/500 [==============================] - 0s 197us/step - loss: 0.5709 - acc: 0.6940\n",
            "Epoch 129/200\n",
            "500/500 [==============================] - 0s 202us/step - loss: 0.5700 - acc: 0.6980\n",
            "Epoch 130/200\n",
            "500/500 [==============================] - 0s 213us/step - loss: 0.5720 - acc: 0.6820\n",
            "Epoch 131/200\n",
            "500/500 [==============================] - 0s 195us/step - loss: 0.5683 - acc: 0.7020\n",
            "Epoch 132/200\n",
            "500/500 [==============================] - 0s 190us/step - loss: 0.5736 - acc: 0.7000\n",
            "Epoch 133/200\n",
            "500/500 [==============================] - 0s 196us/step - loss: 0.5723 - acc: 0.6920\n",
            "Epoch 134/200\n",
            "500/500 [==============================] - 0s 203us/step - loss: 0.5755 - acc: 0.6980\n",
            "Epoch 135/200\n",
            "500/500 [==============================] - 0s 202us/step - loss: 0.5695 - acc: 0.7000\n",
            "Epoch 136/200\n",
            "500/500 [==============================] - 0s 195us/step - loss: 0.5688 - acc: 0.6980\n",
            "Epoch 137/200\n",
            "500/500 [==============================] - 0s 203us/step - loss: 0.5687 - acc: 0.7000\n",
            "Epoch 138/200\n",
            "500/500 [==============================] - 0s 200us/step - loss: 0.5680 - acc: 0.7000\n",
            "Epoch 139/200\n",
            "500/500 [==============================] - 0s 204us/step - loss: 0.5724 - acc: 0.6960\n",
            "Epoch 140/200\n",
            "500/500 [==============================] - 0s 226us/step - loss: 0.5663 - acc: 0.6960\n",
            "Epoch 141/200\n",
            "500/500 [==============================] - 0s 190us/step - loss: 0.5687 - acc: 0.6980\n",
            "Epoch 142/200\n",
            "500/500 [==============================] - 0s 194us/step - loss: 0.5691 - acc: 0.6880\n",
            "Epoch 143/200\n",
            "500/500 [==============================] - 0s 206us/step - loss: 0.5672 - acc: 0.6900\n",
            "Epoch 144/200\n",
            "500/500 [==============================] - 0s 188us/step - loss: 0.5681 - acc: 0.7000\n",
            "Epoch 145/200\n",
            "500/500 [==============================] - 0s 209us/step - loss: 0.5662 - acc: 0.7020\n",
            "Epoch 146/200\n",
            "500/500 [==============================] - 0s 189us/step - loss: 0.5709 - acc: 0.6860\n",
            "Epoch 147/200\n",
            "500/500 [==============================] - 0s 182us/step - loss: 0.5668 - acc: 0.6960\n",
            "Epoch 148/200\n",
            "500/500 [==============================] - 0s 183us/step - loss: 0.5658 - acc: 0.7040\n",
            "Epoch 149/200\n",
            "500/500 [==============================] - 0s 190us/step - loss: 0.5688 - acc: 0.7020\n",
            "Epoch 150/200\n",
            "500/500 [==============================] - 0s 197us/step - loss: 0.5682 - acc: 0.6880\n",
            "Epoch 151/200\n",
            "500/500 [==============================] - 0s 184us/step - loss: 0.5679 - acc: 0.6960\n",
            "Epoch 152/200\n",
            "500/500 [==============================] - 0s 186us/step - loss: 0.5656 - acc: 0.6980\n",
            "Epoch 153/200\n",
            "500/500 [==============================] - 0s 187us/step - loss: 0.5672 - acc: 0.6960\n",
            "Epoch 154/200\n",
            "500/500 [==============================] - 0s 180us/step - loss: 0.5674 - acc: 0.7040\n",
            "Epoch 155/200\n",
            "500/500 [==============================] - 0s 191us/step - loss: 0.5671 - acc: 0.7000\n",
            "Epoch 156/200\n",
            "500/500 [==============================] - 0s 182us/step - loss: 0.5654 - acc: 0.7080\n",
            "Epoch 157/200\n",
            "500/500 [==============================] - 0s 186us/step - loss: 0.5684 - acc: 0.7000\n",
            "Epoch 158/200\n",
            "500/500 [==============================] - 0s 175us/step - loss: 0.5641 - acc: 0.7060\n",
            "Epoch 159/200\n",
            "500/500 [==============================] - 0s 178us/step - loss: 0.5652 - acc: 0.6980\n",
            "Epoch 160/200\n",
            "500/500 [==============================] - 0s 185us/step - loss: 0.5699 - acc: 0.6940\n",
            "Epoch 161/200\n",
            "500/500 [==============================] - 0s 205us/step - loss: 0.5666 - acc: 0.6980\n",
            "Epoch 162/200\n",
            "500/500 [==============================] - 0s 183us/step - loss: 0.5677 - acc: 0.7040\n",
            "Epoch 163/200\n",
            "500/500 [==============================] - 0s 194us/step - loss: 0.5661 - acc: 0.7060\n",
            "Epoch 164/200\n",
            "500/500 [==============================] - 0s 186us/step - loss: 0.5639 - acc: 0.6960\n",
            "Epoch 165/200\n",
            "500/500 [==============================] - 0s 202us/step - loss: 0.5703 - acc: 0.6800\n",
            "Epoch 166/200\n",
            "500/500 [==============================] - 0s 195us/step - loss: 0.5703 - acc: 0.6900\n",
            "Epoch 167/200\n",
            "500/500 [==============================] - 0s 190us/step - loss: 0.5645 - acc: 0.7040\n",
            "Epoch 168/200\n",
            "500/500 [==============================] - 0s 188us/step - loss: 0.5720 - acc: 0.6980\n",
            "Epoch 169/200\n",
            "500/500 [==============================] - 0s 191us/step - loss: 0.5633 - acc: 0.6920\n",
            "Epoch 170/200\n",
            "500/500 [==============================] - 0s 188us/step - loss: 0.5649 - acc: 0.7080\n",
            "Epoch 171/200\n",
            "500/500 [==============================] - 0s 183us/step - loss: 0.5642 - acc: 0.6940\n",
            "Epoch 172/200\n",
            "500/500 [==============================] - 0s 204us/step - loss: 0.5658 - acc: 0.6920\n",
            "Epoch 173/200\n",
            "500/500 [==============================] - 0s 189us/step - loss: 0.5630 - acc: 0.7060\n",
            "Epoch 174/200\n",
            "500/500 [==============================] - 0s 199us/step - loss: 0.5654 - acc: 0.7000\n",
            "Epoch 175/200\n",
            "500/500 [==============================] - 0s 193us/step - loss: 0.5624 - acc: 0.7000\n",
            "Epoch 176/200\n",
            "500/500 [==============================] - 0s 186us/step - loss: 0.5634 - acc: 0.7000\n",
            "Epoch 177/200\n",
            "500/500 [==============================] - 0s 193us/step - loss: 0.5645 - acc: 0.7020\n",
            "Epoch 178/200\n",
            "500/500 [==============================] - 0s 183us/step - loss: 0.5628 - acc: 0.7040\n",
            "Epoch 179/200\n",
            "500/500 [==============================] - 0s 181us/step - loss: 0.5647 - acc: 0.6920\n",
            "Epoch 180/200\n",
            "500/500 [==============================] - 0s 172us/step - loss: 0.5628 - acc: 0.7060\n",
            "Epoch 181/200\n",
            "500/500 [==============================] - 0s 172us/step - loss: 0.5626 - acc: 0.6880\n",
            "Epoch 182/200\n",
            "500/500 [==============================] - 0s 195us/step - loss: 0.5639 - acc: 0.7080\n",
            "Epoch 183/200\n",
            "500/500 [==============================] - 0s 202us/step - loss: 0.5625 - acc: 0.6960\n",
            "Epoch 184/200\n",
            "500/500 [==============================] - 0s 181us/step - loss: 0.5622 - acc: 0.6980\n",
            "Epoch 185/200\n",
            "500/500 [==============================] - 0s 185us/step - loss: 0.5600 - acc: 0.7000\n",
            "Epoch 186/200\n",
            "500/500 [==============================] - 0s 192us/step - loss: 0.5602 - acc: 0.7080\n",
            "Epoch 187/200\n",
            "500/500 [==============================] - 0s 199us/step - loss: 0.5694 - acc: 0.6840\n",
            "Epoch 188/200\n",
            "500/500 [==============================] - 0s 193us/step - loss: 0.5652 - acc: 0.6980\n",
            "Epoch 189/200\n",
            "500/500 [==============================] - 0s 196us/step - loss: 0.5709 - acc: 0.7040\n",
            "Epoch 190/200\n",
            "500/500 [==============================] - 0s 192us/step - loss: 0.5666 - acc: 0.7120\n",
            "Epoch 191/200\n",
            "500/500 [==============================] - 0s 195us/step - loss: 0.5585 - acc: 0.7100\n",
            "Epoch 192/200\n",
            "500/500 [==============================] - 0s 194us/step - loss: 0.5596 - acc: 0.7060\n",
            "Epoch 193/200\n",
            "500/500 [==============================] - 0s 206us/step - loss: 0.5613 - acc: 0.7060\n",
            "Epoch 194/200\n",
            "500/500 [==============================] - 0s 193us/step - loss: 0.5631 - acc: 0.6960\n",
            "Epoch 195/200\n",
            "500/500 [==============================] - 0s 188us/step - loss: 0.5601 - acc: 0.7140\n",
            "Epoch 196/200\n",
            "500/500 [==============================] - 0s 197us/step - loss: 0.5607 - acc: 0.6960\n",
            "Epoch 197/200\n",
            "500/500 [==============================] - 0s 191us/step - loss: 0.5583 - acc: 0.7140\n",
            "Epoch 198/200\n",
            "500/500 [==============================] - 0s 184us/step - loss: 0.5590 - acc: 0.7040\n",
            "Epoch 199/200\n",
            "500/500 [==============================] - 0s 184us/step - loss: 0.5578 - acc: 0.7140\n",
            "Epoch 200/200\n",
            "500/500 [==============================] - 0s 184us/step - loss: 0.5564 - acc: 0.7260\n"
          ],
          "name": "stdout"
        },
        {
          "output_type": "execute_result",
          "data": {
            "text/plain": [
              "<keras.callbacks.History at 0x7f32d06207f0>"
            ]
          },
          "metadata": {
            "tags": []
          },
          "execution_count": 22
        }
      ]
    },
    {
      "metadata": {
        "id": "JbpmPIVUhO1v",
        "colab_type": "text"
      },
      "cell_type": "markdown",
      "source": [
        "# Step 8.  Score the Model."
      ]
    },
    {
      "metadata": {
        "id": "Tx1EVP_ZhO1v",
        "colab_type": "code",
        "colab": {
          "base_uri": "https://localhost:8080/",
          "height": 51
        },
        "outputId": "a4641379-69f5-4812-eaaa-09e4210d3939"
      },
      "cell_type": "code",
      "source": [
        "### Get the model accuracy\n",
        "scores = model.evaluate(X, y)\n",
        "print(\"%s: %.2f%%\" % (model.metrics_names[1], scores[1]*100))"
      ],
      "execution_count": 23,
      "outputs": [
        {
          "output_type": "stream",
          "text": [
            "500/500 [==============================] - 0s 169us/step\n",
            "acc: 70.20%\n"
          ],
          "name": "stdout"
        }
      ]
    }
  ]
}