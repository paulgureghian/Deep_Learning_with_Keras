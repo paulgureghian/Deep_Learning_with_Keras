{
  "nbformat": 4,
  "nbformat_minor": 0,
  "metadata": {
    "colab": {
      "name": "CNNs_MNIST_Keras.ipynb",
      "version": "0.3.2",
      "provenance": [],
      "collapsed_sections": [],
      "include_colab_link": true
    },
    "kernelspec": {
      "name": "python3",
      "display_name": "Python 3"
    },
    "accelerator": "GPU"
  },
  "cells": [
    {
      "cell_type": "markdown",
      "metadata": {
        "id": "view-in-github",
        "colab_type": "text"
      },
      "source": [
        "<a href=\"https://colab.research.google.com/github/paulgureghian/Deep_Learning_with_Keras/blob/master/CNNs_MNIST_Keras.ipynb\" target=\"_parent\"><img src=\"https://colab.research.google.com/assets/colab-badge.svg\" alt=\"Open In Colab\"/></a>"
      ]
    },
    {
      "metadata": {
        "id": "P24HfIdaqhwe",
        "colab_type": "text"
      },
      "cell_type": "markdown",
      "source": [
        "**Created by Paul A. Gureghian in Jan 2019.**\n",
        "\n",
        "In this notebook I will use the keras library to build convolutional neural networks.\n",
        "\n",
        "I will use the popular MNIST dataset and I will compare the results to using a conventional neural network.\n"
      ]
    },
    {
      "metadata": {
        "id": "w500U5f-qhwe",
        "colab_type": "text"
      },
      "cell_type": "markdown",
      "source": [
        "## Table of Contents\n",
        "\n",
        "<div class=\"alert alert-block alert-info\" style=\"margin-top: 20px\">\n",
        "\n",
        "<font size = 3>\n",
        "      \n",
        "1. <a href=\"#item2\">Import Keras and Packages</a>   \n",
        "2. <a href=\"#item3\">Convolutional Neural Network with One Convolutional and Pooling Layers</a>  \n",
        "3. <a href=\"#item4\">Convolutional Neural Network with Two Convolutional and Pooling Layers</a>  \n",
        "\n",
        "</font>\n",
        "</div>"
      ]
    },
    {
      "metadata": {
        "id": "h44gCGtbqhwe",
        "colab_type": "text"
      },
      "cell_type": "markdown",
      "source": [
        "## Import Keras and Packages."
      ]
    },
    {
      "metadata": {
        "id": "VkNeA-A1qhwt",
        "colab_type": "code",
        "colab": {}
      },
      "cell_type": "code",
      "source": [
        "### Import packages\n",
        "import keras\n",
        "from keras.layers import Dense\n",
        "from keras.layers import Flatten \n",
        "from keras.models import Sequential\n",
        "from keras.utils import to_categorical\n",
        "from keras.layers.convolutional import Conv2D\n",
        "from keras.layers.convolutional import MaxPooling2D "
      ],
      "execution_count": 0,
      "outputs": []
    },
    {
      "metadata": {
        "id": "JJ0EFUDqqhwt",
        "colab_type": "text"
      },
      "cell_type": "markdown",
      "source": [
        "## Convolutional Model with one set of convolutional and pooling layers."
      ]
    },
    {
      "metadata": {
        "id": "J25ggaKFqhwt",
        "colab_type": "code",
        "colab": {
          "base_uri": "https://localhost:8080/",
          "height": 204
        },
        "outputId": "23a44d4a-9e86-4cc7-fc9a-8b6ce75261f1"
      },
      "cell_type": "code",
      "source": [
        "### Import data\n",
        "from keras.datasets import mnist\n",
        "\n",
        "### Load data\n",
        "(X_train, y_train), (X_test, y_test) = mnist.load_data()\n",
        "\n",
        "print('Y_train:\\n', y_train.shape, '\\n')\n",
        "print('Y_test:\\n', y_test.shape, '\\n') \n",
        "\n",
        "### Reshape data to be [samples][pixels][width][height]\n",
        "X_train = X_train.reshape(X_train.shape[0], 28, 28, 1).astype('float32')\n",
        "X_test = X_test.reshape(X_test.shape[0], 28, 28, 1).astype('float32')\n",
        "\n",
        "print('X_train_shape:\\n', X_train.shape, '\\n')\n",
        "print('X_test_shape:\\n', X_test.shape) "
      ],
      "execution_count": 47,
      "outputs": [
        {
          "output_type": "stream",
          "text": [
            "Y_train:\n",
            " (60000,) \n",
            "\n",
            "Y_test:\n",
            " (10000,) \n",
            "\n",
            "X_train_shape:\n",
            " (60000, 28, 28, 1) \n",
            "\n",
            "X_test_shape:\n",
            " (10000, 28, 28, 1)\n"
          ],
          "name": "stdout"
        }
      ]
    },
    {
      "metadata": {
        "id": "uERVNrGdqhw-",
        "colab_type": "text"
      },
      "cell_type": "markdown",
      "source": [
        "**I will normalize the pixel values to be between 0 and 1.**"
      ]
    },
    {
      "metadata": {
        "id": "Kq3bbeL-qhw-",
        "colab_type": "code",
        "colab": {}
      },
      "cell_type": "code",
      "source": [
        "### Normalize pixel values\n",
        "X_train = X_train / 255 \n",
        "X_test = X_test / 255 "
      ],
      "execution_count": 0,
      "outputs": []
    },
    {
      "metadata": {
        "id": "WduVORVmqhw-",
        "colab_type": "text"
      },
      "cell_type": "markdown",
      "source": [
        "**I will convert the target variable into binary categories.**"
      ]
    },
    {
      "metadata": {
        "id": "PPquWFz4qhw-",
        "colab_type": "code",
        "colab": {
          "base_uri": "https://localhost:8080/",
          "height": 153
        },
        "outputId": "6f9319fa-306d-42c8-c1bb-b34d3ae814f6"
      },
      "cell_type": "code",
      "source": [
        "### Convert 'y' target variable into binary \n",
        "y_train = to_categorical(y_train)\n",
        "y_test = to_categorical(y_test)\n",
        "\n",
        "print('Y_train:\\n', y_train.shape, '\\n')\n",
        "print('Y_test:\\n', y_test.shape, '\\n') \n",
        "\n",
        "num_classes = y_test.shape[1] \n",
        "print('Number_of_classes:\\n', num_classes)"
      ],
      "execution_count": 49,
      "outputs": [
        {
          "output_type": "stream",
          "text": [
            "Y_train:\n",
            " (60000, 10) \n",
            "\n",
            "Y_test:\n",
            " (10000, 10) \n",
            "\n",
            "Number_of_classes:\n",
            " 10\n"
          ],
          "name": "stdout"
        }
      ]
    },
    {
      "metadata": {
        "id": "IUURjtPTHD17",
        "colab_type": "text"
      },
      "cell_type": "markdown",
      "source": [
        "## Convolutonal Model with one set of convolutional and pooling layers."
      ]
    },
    {
      "metadata": {
        "id": "qlgjHlL6qhxN",
        "colab_type": "text"
      },
      "cell_type": "markdown",
      "source": [
        "**I will define a function that creates the model.** "
      ]
    },
    {
      "metadata": {
        "id": "r84mOQuCqhxN",
        "colab_type": "code",
        "colab": {}
      },
      "cell_type": "code",
      "source": [
        "### Define the model\n",
        "def convolutional_model():\n",
        "    \n",
        "    model = Sequential()\n",
        "    model.add(Conv2D(16, (5, 5), strides=(1, 1), activation='relu', input_shape=(28, 28, 1)))\n",
        "    model.add(MaxPooling2D(pool_size=(2, 2), strides=(2, 2)))\n",
        "    \n",
        "    model.add(Flatten())\n",
        "    model.add(Dense(100, activation='relu'))\n",
        "    model.add(Dense(num_classes, activation='softmax'))\n",
        "    \n",
        "    model.compile(optimizer='adam', loss='categorical_crossentropy',  metrics=['accuracy'])\n",
        "    return model"
      ],
      "execution_count": 0,
      "outputs": []
    },
    {
      "metadata": {
        "id": "R-u_gPFAqhxN",
        "colab_type": "text"
      },
      "cell_type": "markdown",
      "source": [
        "**I will call the function to create the model.**\n",
        "\n",
        "**And then train it and evaluate it.**"
      ]
    },
    {
      "metadata": {
        "id": "_XGBZUzsqhxN",
        "colab_type": "code",
        "colab": {
          "base_uri": "https://localhost:8080/",
          "height": 408
        },
        "outputId": "f12e9fbb-d429-460f-8b71-648515725114"
      },
      "cell_type": "code",
      "source": [
        "### Build the model\n",
        "model = convolutional_model()\n",
        "\n",
        "### Fit the model\n",
        "model.fit(X_train, y_train, validation_data=(X_test, y_test), epochs=10, batch_size=200, verbose=2)\n",
        "\n",
        "### Evaluate the model\n",
        "scores = model.evaluate(X_test, y_test, verbose=0)\n",
        "print(\"Accuracy: {} \\n Error: {}\".format(scores[1], 100-scores[1]*100))"
      ],
      "execution_count": 51,
      "outputs": [
        {
          "output_type": "stream",
          "text": [
            "Train on 60000 samples, validate on 10000 samples\n",
            "Epoch 1/10\n",
            " - 3s - loss: 0.2711 - acc: 0.9257 - val_loss: 0.0848 - val_acc: 0.9752\n",
            "Epoch 2/10\n",
            " - 2s - loss: 0.0739 - acc: 0.9787 - val_loss: 0.0585 - val_acc: 0.9814\n",
            "Epoch 3/10\n",
            " - 2s - loss: 0.0521 - acc: 0.9848 - val_loss: 0.0465 - val_acc: 0.9837\n",
            "Epoch 4/10\n",
            " - 2s - loss: 0.0407 - acc: 0.9880 - val_loss: 0.0480 - val_acc: 0.9846\n",
            "Epoch 5/10\n",
            " - 2s - loss: 0.0331 - acc: 0.9899 - val_loss: 0.0390 - val_acc: 0.9877\n",
            "Epoch 6/10\n",
            " - 2s - loss: 0.0269 - acc: 0.9917 - val_loss: 0.0369 - val_acc: 0.9885\n",
            "Epoch 7/10\n",
            " - 2s - loss: 0.0227 - acc: 0.9930 - val_loss: 0.0380 - val_acc: 0.9882\n",
            "Epoch 8/10\n",
            " - 2s - loss: 0.0180 - acc: 0.9946 - val_loss: 0.0390 - val_acc: 0.9890\n",
            "Epoch 9/10\n",
            " - 2s - loss: 0.0155 - acc: 0.9952 - val_loss: 0.0391 - val_acc: 0.9877\n",
            "Epoch 10/10\n",
            " - 2s - loss: 0.0132 - acc: 0.9961 - val_loss: 0.0411 - val_acc: 0.9874\n",
            "Accuracy: 0.9874 \n",
            " Error: 1.259999999999991\n"
          ],
          "name": "stdout"
        }
      ]
    },
    {
      "metadata": {
        "id": "5bYC35zgqhxN",
        "colab_type": "text"
      },
      "cell_type": "markdown",
      "source": [
        "------------------------------------------"
      ]
    },
    {
      "metadata": {
        "id": "yUjqSuvjqhxd",
        "colab_type": "text"
      },
      "cell_type": "markdown",
      "source": [
        "## Convolutional Model with two sets of convolutional and pooling layers."
      ]
    },
    {
      "metadata": {
        "id": "Tmmohz68qhxe",
        "colab_type": "text"
      },
      "cell_type": "markdown",
      "source": [
        "**I will redefine the convolutional model so that it has two convolutional and pooling layers instead of just one layer of each.**"
      ]
    },
    {
      "metadata": {
        "id": "6k44q8-eqhxg",
        "colab_type": "code",
        "colab": {}
      },
      "cell_type": "code",
      "source": [
        "### Redefine the model\n",
        "def convolutional_model():\n",
        "    \n",
        "    model = Sequential()\n",
        "    model.add(Conv2D(16, (5, 5), activation='relu', input_shape=(28, 28, 1)))\n",
        "    model.add(MaxPooling2D(pool_size=(2, 2), strides=(2, 2)))\n",
        "    \n",
        "    model.add(Conv2D(8, (2, 2), activation='relu'))\n",
        "    model.add(MaxPooling2D(pool_size=(2, 2), strides=(2, 2)))\n",
        "    \n",
        "    model.add(Flatten())\n",
        "    model.add(Dense(100, activation='relu'))\n",
        "    model.add(Dense(num_classes, activation='softmax'))\n",
        "    \n",
        "    model.compile(optimizer='adam', loss='categorical_crossentropy',  metrics=['accuracy'])\n",
        "    return model"
      ],
      "execution_count": 0,
      "outputs": []
    },
    {
      "metadata": {
        "id": "ge_RFhs3qhxk",
        "colab_type": "text"
      },
      "cell_type": "markdown",
      "source": [
        "**I will call the function to create the redefined convolutional neural network.**\n",
        "\n",
        "**And then I will train it and evaluate it.**"
      ]
    },
    {
      "metadata": {
        "id": "6R0QYTlGqhxk",
        "colab_type": "code",
        "colab": {
          "base_uri": "https://localhost:8080/",
          "height": 408
        },
        "outputId": "c31d033b-ac2a-4319-ba28-17299940a89a"
      },
      "cell_type": "code",
      "source": [
        "### Build the model\n",
        "model = convolutional_model()\n",
        "\n",
        "### Fit the model\n",
        "model.fit(X_train, y_train, validation_data=(X_test, y_test), epochs=10, batch_size=200, verbose=2)\n",
        "\n",
        "### Evaluate the model\n",
        "scores = model.evaluate(X_test, y_test, verbose=0)\n",
        "print(\"Accuracy: {} \\n Error: {}\".format(scores[1], 100-scores[1]*100))"
      ],
      "execution_count": 53,
      "outputs": [
        {
          "output_type": "stream",
          "text": [
            "Train on 60000 samples, validate on 10000 samples\n",
            "Epoch 1/10\n",
            " - 3s - loss: 0.4698 - acc: 0.8655 - val_loss: 0.1477 - val_acc: 0.9583\n",
            "Epoch 2/10\n",
            " - 3s - loss: 0.1270 - acc: 0.9617 - val_loss: 0.0912 - val_acc: 0.9728\n",
            "Epoch 3/10\n",
            " - 2s - loss: 0.0880 - acc: 0.9731 - val_loss: 0.0737 - val_acc: 0.9758\n",
            "Epoch 4/10\n",
            " - 3s - loss: 0.0702 - acc: 0.9784 - val_loss: 0.0631 - val_acc: 0.9797\n",
            "Epoch 5/10\n",
            " - 2s - loss: 0.0595 - acc: 0.9820 - val_loss: 0.0534 - val_acc: 0.9826\n",
            "Epoch 6/10\n",
            " - 3s - loss: 0.0521 - acc: 0.9839 - val_loss: 0.0501 - val_acc: 0.9823\n",
            "Epoch 7/10\n",
            " - 3s - loss: 0.0467 - acc: 0.9851 - val_loss: 0.0455 - val_acc: 0.9837\n",
            "Epoch 8/10\n",
            " - 2s - loss: 0.0412 - acc: 0.9874 - val_loss: 0.0413 - val_acc: 0.9870\n",
            "Epoch 9/10\n",
            " - 3s - loss: 0.0377 - acc: 0.9882 - val_loss: 0.0417 - val_acc: 0.9858\n",
            "Epoch 10/10\n",
            " - 2s - loss: 0.0339 - acc: 0.9895 - val_loss: 0.0414 - val_acc: 0.9865\n",
            "Accuracy: 0.9865 \n",
            " Error: 1.3499999999999943\n"
          ],
          "name": "stdout"
        }
      ]
    }
  ]
}