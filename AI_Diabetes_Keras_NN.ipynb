{
  "nbformat": 4,
  "nbformat_minor": 0,
  "metadata": {
    "colab": {
      "name": "AI_Diabetes_Keras_NN.ipynb",
      "version": "0.3.2",
      "provenance": [],
      "collapsed_sections": [],
      "include_colab_link": true
    },
    "kernelspec": {
      "name": "python3",
      "display_name": "Python 3"
    },
    "accelerator": "GPU"
  },
  "cells": [
    {
      "cell_type": "markdown",
      "metadata": {
        "id": "view-in-github",
        "colab_type": "text"
      },
      "source": [
        "<a href=\"https://colab.research.google.com/github/paulgureghian/Deep_Learning_with_Keras/blob/master/AI_Diabetes_Keras_NN.ipynb\" target=\"_parent\"><img src=\"https://colab.research.google.com/assets/colab-badge.svg\" alt=\"Open In Colab\"/></a>"
      ]
    },
    {
      "metadata": {
        "id": "QepDoOmPHFya",
        "colab_type": "text"
      },
      "cell_type": "markdown",
      "source": [
        "## **Created by Paul A. Gureghian in Jan 2019.**\n",
        "\n",
        "**This Python notebook will build an AI application for** \n",
        "\n",
        "**detecting diabetes using a Keras Neural Network.**\n",
        "\n",
        "\n",
        "**The dataset used is:**    \n",
        "\n",
        "**'pima_indians_diabetes.csv'.**"
      ]
    },
    {
      "metadata": {
        "id": "P6QcV32jm_jT",
        "colab_type": "text"
      },
      "cell_type": "markdown",
      "source": [
        "# **Pre-process the data.**\n",
        "\n",
        "* **Mount Google drive.**\n",
        "* **Import packages.**\n",
        "* **Import dataset.**\n",
        "* **Pre-process the dataset.**"
      ]
    },
    {
      "metadata": {
        "id": "BLbcpcydQ_S_",
        "colab_type": "code",
        "outputId": "5d1e7334-ea20-4106-f2b5-ad17e7cf6a37",
        "colab": {
          "base_uri": "https://localhost:8080/",
          "height": 34
        }
      },
      "cell_type": "code",
      "source": [
        "### Mount Google drive\n",
        "from google.colab import drive\n",
        "drive.mount('/content/drive')"
      ],
      "execution_count": 14,
      "outputs": [
        {
          "output_type": "stream",
          "text": [
            "Drive already mounted at /content/drive; to attempt to forcibly remount, call drive.mount(\"/content/drive\", force_remount=True).\n"
          ],
          "name": "stdout"
        }
      ]
    },
    {
      "metadata": {
        "id": "rZbLyKaADRGn",
        "colab_type": "code",
        "colab": {}
      },
      "cell_type": "code",
      "source": [
        "### Import packages\n",
        "import numpy as np\n",
        "import pandas as pd \n",
        "from keras.layers import Dense\n",
        "import matplotlib.pyplot as plt\n",
        "from keras.utils import np_utils\n",
        "from keras.models import Sequential\n",
        "from sklearn.preprocessing import scale\n",
        "from sklearn.metrics import accuracy_score\n",
        "from sklearn.model_selection import train_test_split"
      ],
      "execution_count": 0,
      "outputs": []
    },
    {
      "metadata": {
        "id": "nuR1Vp1xPTzF",
        "colab_type": "code",
        "outputId": "cb99b985-0eb4-48be-be94-cfeee168ff4a",
        "colab": {
          "base_uri": "https://localhost:8080/",
          "height": 204
        }
      },
      "cell_type": "code",
      "source": [
        "### Import the dataset\n",
        "df = pd.read_csv('/content/drive/My Drive/Pima_Indians_Diabetes/pima_indians_diabetes.csv', names=['Pregnancies', 'Glucose', 'BloodPressure',\n",
        "                                                                                                   'SkinThickness', 'Insulin', 'BMI', \n",
        "                                                                                                   'DiabetesPedigreeFunction', 'Age', 'Class'])                        \n",
        "df.head() "
      ],
      "execution_count": 16,
      "outputs": [
        {
          "output_type": "execute_result",
          "data": {
            "text/html": [
              "<div>\n",
              "<style scoped>\n",
              "    .dataframe tbody tr th:only-of-type {\n",
              "        vertical-align: middle;\n",
              "    }\n",
              "\n",
              "    .dataframe tbody tr th {\n",
              "        vertical-align: top;\n",
              "    }\n",
              "\n",
              "    .dataframe thead th {\n",
              "        text-align: right;\n",
              "    }\n",
              "</style>\n",
              "<table border=\"1\" class=\"dataframe\">\n",
              "  <thead>\n",
              "    <tr style=\"text-align: right;\">\n",
              "      <th></th>\n",
              "      <th>Pregnancies</th>\n",
              "      <th>Glucose</th>\n",
              "      <th>BloodPressure</th>\n",
              "      <th>SkinThickness</th>\n",
              "      <th>Insulin</th>\n",
              "      <th>BMI</th>\n",
              "      <th>DiabetesPedigreeFunction</th>\n",
              "      <th>Age</th>\n",
              "      <th>Class</th>\n",
              "    </tr>\n",
              "  </thead>\n",
              "  <tbody>\n",
              "    <tr>\n",
              "      <th>0</th>\n",
              "      <td>6</td>\n",
              "      <td>148</td>\n",
              "      <td>72</td>\n",
              "      <td>35</td>\n",
              "      <td>0</td>\n",
              "      <td>33.6</td>\n",
              "      <td>0.627</td>\n",
              "      <td>50</td>\n",
              "      <td>1</td>\n",
              "    </tr>\n",
              "    <tr>\n",
              "      <th>1</th>\n",
              "      <td>1</td>\n",
              "      <td>85</td>\n",
              "      <td>66</td>\n",
              "      <td>29</td>\n",
              "      <td>0</td>\n",
              "      <td>26.6</td>\n",
              "      <td>0.351</td>\n",
              "      <td>31</td>\n",
              "      <td>0</td>\n",
              "    </tr>\n",
              "    <tr>\n",
              "      <th>2</th>\n",
              "      <td>8</td>\n",
              "      <td>183</td>\n",
              "      <td>64</td>\n",
              "      <td>0</td>\n",
              "      <td>0</td>\n",
              "      <td>23.3</td>\n",
              "      <td>0.672</td>\n",
              "      <td>32</td>\n",
              "      <td>1</td>\n",
              "    </tr>\n",
              "    <tr>\n",
              "      <th>3</th>\n",
              "      <td>1</td>\n",
              "      <td>89</td>\n",
              "      <td>66</td>\n",
              "      <td>23</td>\n",
              "      <td>94</td>\n",
              "      <td>28.1</td>\n",
              "      <td>0.167</td>\n",
              "      <td>21</td>\n",
              "      <td>0</td>\n",
              "    </tr>\n",
              "    <tr>\n",
              "      <th>4</th>\n",
              "      <td>0</td>\n",
              "      <td>137</td>\n",
              "      <td>40</td>\n",
              "      <td>35</td>\n",
              "      <td>168</td>\n",
              "      <td>43.1</td>\n",
              "      <td>2.288</td>\n",
              "      <td>33</td>\n",
              "      <td>1</td>\n",
              "    </tr>\n",
              "  </tbody>\n",
              "</table>\n",
              "</div>"
            ],
            "text/plain": [
              "   Pregnancies  Glucose  BloodPressure  SkinThickness  Insulin   BMI  \\\n",
              "0            6      148             72             35        0  33.6   \n",
              "1            1       85             66             29        0  26.6   \n",
              "2            8      183             64              0        0  23.3   \n",
              "3            1       89             66             23       94  28.1   \n",
              "4            0      137             40             35      168  43.1   \n",
              "\n",
              "   DiabetesPedigreeFunction  Age  Class  \n",
              "0                     0.627   50      1  \n",
              "1                     0.351   31      0  \n",
              "2                     0.672   32      1  \n",
              "3                     0.167   21      0  \n",
              "4                     2.288   33      1  "
            ]
          },
          "metadata": {
            "tags": []
          },
          "execution_count": 16
        }
      ]
    },
    {
      "metadata": {
        "id": "Xuw2fOrqTOt9",
        "colab_type": "code",
        "outputId": "4e2ef477-ba22-4d39-dab4-ca0e9239026e",
        "colab": {
          "base_uri": "https://localhost:8080/",
          "height": 425
        }
      },
      "cell_type": "code",
      "source": [
        "### Set the feature and target variables \n",
        "X = df.drop('Class', axis=1)\n",
        "y = df['Class'] \n",
        "\n",
        "print('X:\\n\\n', X.head(), '\\n')\n",
        "print('y:\\n\\n', y.head()) "
      ],
      "execution_count": 17,
      "outputs": [
        {
          "output_type": "stream",
          "text": [
            "X:\n",
            "\n",
            "    Pregnancies  Glucose  BloodPressure  SkinThickness  Insulin   BMI  \\\n",
            "0            6      148             72             35        0  33.6   \n",
            "1            1       85             66             29        0  26.6   \n",
            "2            8      183             64              0        0  23.3   \n",
            "3            1       89             66             23       94  28.1   \n",
            "4            0      137             40             35      168  43.1   \n",
            "\n",
            "   DiabetesPedigreeFunction  Age  \n",
            "0                     0.627   50  \n",
            "1                     0.351   31  \n",
            "2                     0.672   32  \n",
            "3                     0.167   21  \n",
            "4                     2.288   33   \n",
            "\n",
            "y:\n",
            "\n",
            " 0    1\n",
            "1    0\n",
            "2    1\n",
            "3    0\n",
            "4    1\n",
            "Name: Class, dtype: int64\n"
          ],
          "name": "stdout"
        }
      ]
    },
    {
      "metadata": {
        "id": "3AA_7GdtWZJ_",
        "colab_type": "code",
        "outputId": "062b4f27-a7c8-437c-f4f8-fa169893bc15",
        "colab": {
          "base_uri": "https://localhost:8080/",
          "height": 309
        }
      },
      "cell_type": "code",
      "source": [
        "### Scale the data\n",
        "X = scale(X) \n",
        "\n",
        "print('Scaled_X:\\n', X) "
      ],
      "execution_count": 18,
      "outputs": [
        {
          "output_type": "stream",
          "text": [
            "Scaled_X:\n",
            " [[ 0.63994726  0.84832379  0.14964075 ...  0.20401277  0.46849198\n",
            "   1.4259954 ]\n",
            " [-0.84488505 -1.12339636 -0.16054575 ... -0.68442195 -0.36506078\n",
            "  -0.19067191]\n",
            " [ 1.23388019  1.94372388 -0.26394125 ... -1.10325546  0.60439732\n",
            "  -0.10558415]\n",
            " ...\n",
            " [ 0.3429808   0.00330087  0.14964075 ... -0.73518964 -0.68519336\n",
            "  -0.27575966]\n",
            " [-0.84488505  0.1597866  -0.47073225 ... -0.24020459 -0.37110101\n",
            "   1.17073215]\n",
            " [-0.84488505 -0.8730192   0.04624525 ... -0.20212881 -0.47378505\n",
            "  -0.87137393]]\n"
          ],
          "name": "stdout"
        },
        {
          "output_type": "stream",
          "text": [
            "/usr/local/lib/python3.6/dist-packages/ipykernel_launcher.py:1: DataConversionWarning: Data with input dtype int64, float64 were all converted to float64 by the scale function.\n",
            "  \"\"\"Entry point for launching an IPython kernel.\n"
          ],
          "name": "stderr"
        }
      ]
    },
    {
      "metadata": {
        "id": "9lSx1iaGX1Eq",
        "colab_type": "code",
        "colab": {}
      },
      "cell_type": "code",
      "source": [
        "### Split dataset into 'train' & 'test' sets\n",
        "X_train, X_test, y_train, y_test = train_test_split(X, y, test_size=0.33, random_state=42)"
      ],
      "execution_count": 0,
      "outputs": []
    },
    {
      "metadata": {
        "id": "PEbb3rnwijP5",
        "colab_type": "code",
        "outputId": "8ee347a2-2213-401a-c36c-8ae256287a58",
        "colab": {
          "base_uri": "https://localhost:8080/",
          "height": 153
        }
      },
      "cell_type": "code",
      "source": [
        "### One hot encoding the target variable\n",
        "y_train = np_utils.to_categorical(y_train)\n",
        "\n",
        "print('Y_Train Encoded:\\n', y_train) "
      ],
      "execution_count": 20,
      "outputs": [
        {
          "output_type": "stream",
          "text": [
            "Y_Train Encoded:\n",
            " [[1. 0.]\n",
            " [1. 0.]\n",
            " [1. 0.]\n",
            " ...\n",
            " [0. 1.]\n",
            " [0. 1.]\n",
            " [1. 0.]]\n"
          ],
          "name": "stdout"
        }
      ]
    },
    {
      "metadata": {
        "id": "pwRXNPFeoqAa",
        "colab_type": "text"
      },
      "cell_type": "markdown",
      "source": [
        "# **Design and build the neural network model.**"
      ]
    },
    {
      "metadata": {
        "id": "zwc1sHLPqEgR",
        "colab_type": "text"
      },
      "cell_type": "markdown",
      "source": [
        "  **The model design:**\n",
        "  \n",
        "  * **3 layers.**\n",
        "  * **22 total neurons.**\n",
        "  * **Relu & Sigmoid activation functions.**"
      ]
    },
    {
      "metadata": {
        "id": "U8X47ruBsEzB",
        "colab_type": "code",
        "colab": {}
      },
      "cell_type": "code",
      "source": [
        "### Define the neural network model\n",
        "model = Sequential()\n",
        "model.add(Dense(12, input_dim=8, activation='relu'))\n",
        "model.add(Dense(8, activation='relu'))\n",
        "model.add(Dense(2, activation='sigmoid'))"
      ],
      "execution_count": 0,
      "outputs": []
    },
    {
      "metadata": {
        "id": "djux0lYatPvx",
        "colab_type": "code",
        "colab": {}
      },
      "cell_type": "code",
      "source": [
        "### Compile the model\n",
        "model.compile(loss='binary_crossentropy', optimizer='adam', metrics=['accuracy'])  "
      ],
      "execution_count": 0,
      "outputs": []
    },
    {
      "metadata": {
        "id": "5C0c4sx9uA4h",
        "colab_type": "code",
        "outputId": "6b9e85a2-f441-4f6d-9f94-053c3cb1a2c8",
        "colab": {
          "base_uri": "https://localhost:8080/",
          "height": 5134
        }
      },
      "cell_type": "code",
      "source": [
        "### Train the model on the training sets\n",
        "model.fit(X_train, y_train, epochs=150, batch_size=10) "
      ],
      "execution_count": 23,
      "outputs": [
        {
          "output_type": "stream",
          "text": [
            "Epoch 1/150\n",
            "514/514 [==============================] - 2s 4ms/step - loss: 0.7062 - acc: 0.5885\n",
            "Epoch 2/150\n",
            "514/514 [==============================] - 0s 407us/step - loss: 0.6630 - acc: 0.6362\n",
            "Epoch 3/150\n",
            "514/514 [==============================] - 0s 411us/step - loss: 0.6288 - acc: 0.6459\n",
            "Epoch 4/150\n",
            "514/514 [==============================] - 0s 410us/step - loss: 0.5974 - acc: 0.6518\n",
            "Epoch 5/150\n",
            "514/514 [==============================] - 0s 404us/step - loss: 0.5700 - acc: 0.6722\n",
            "Epoch 6/150\n",
            "514/514 [==============================] - 0s 435us/step - loss: 0.5449 - acc: 0.6868\n",
            "Epoch 7/150\n",
            "514/514 [==============================] - 0s 411us/step - loss: 0.5222 - acc: 0.7228\n",
            "Epoch 8/150\n",
            "514/514 [==============================] - 0s 451us/step - loss: 0.5029 - acc: 0.7383\n",
            "Epoch 9/150\n",
            "514/514 [==============================] - 0s 457us/step - loss: 0.4875 - acc: 0.7578\n",
            "Epoch 10/150\n",
            "514/514 [==============================] - 0s 473us/step - loss: 0.4755 - acc: 0.7656\n",
            "Epoch 11/150\n",
            "514/514 [==============================] - 0s 468us/step - loss: 0.4658 - acc: 0.7675\n",
            "Epoch 12/150\n",
            "514/514 [==============================] - 0s 451us/step - loss: 0.4582 - acc: 0.7685\n",
            "Epoch 13/150\n",
            "514/514 [==============================] - 0s 460us/step - loss: 0.4518 - acc: 0.7743\n",
            "Epoch 14/150\n",
            "514/514 [==============================] - 0s 468us/step - loss: 0.4477 - acc: 0.7763\n",
            "Epoch 15/150\n",
            "514/514 [==============================] - 0s 473us/step - loss: 0.4448 - acc: 0.7772\n",
            "Epoch 16/150\n",
            "514/514 [==============================] - 0s 453us/step - loss: 0.4415 - acc: 0.7782\n",
            "Epoch 17/150\n",
            "514/514 [==============================] - 0s 467us/step - loss: 0.4390 - acc: 0.7782\n",
            "Epoch 18/150\n",
            "514/514 [==============================] - 0s 454us/step - loss: 0.4363 - acc: 0.7821\n",
            "Epoch 19/150\n",
            "514/514 [==============================] - 0s 487us/step - loss: 0.4351 - acc: 0.7850\n",
            "Epoch 20/150\n",
            "514/514 [==============================] - 0s 460us/step - loss: 0.4333 - acc: 0.7821\n",
            "Epoch 21/150\n",
            "514/514 [==============================] - 0s 450us/step - loss: 0.4320 - acc: 0.7879\n",
            "Epoch 22/150\n",
            "514/514 [==============================] - 0s 450us/step - loss: 0.4294 - acc: 0.7889\n",
            "Epoch 23/150\n",
            "514/514 [==============================] - 0s 483us/step - loss: 0.4280 - acc: 0.7899\n",
            "Epoch 24/150\n",
            "514/514 [==============================] - 0s 447us/step - loss: 0.4263 - acc: 0.7889\n",
            "Epoch 25/150\n",
            "514/514 [==============================] - 0s 463us/step - loss: 0.4246 - acc: 0.7938\n",
            "Epoch 26/150\n",
            "514/514 [==============================] - 0s 456us/step - loss: 0.4245 - acc: 0.7928\n",
            "Epoch 27/150\n",
            "514/514 [==============================] - 0s 498us/step - loss: 0.4223 - acc: 0.7967\n",
            "Epoch 28/150\n",
            "514/514 [==============================] - 0s 462us/step - loss: 0.4205 - acc: 0.7947\n",
            "Epoch 29/150\n",
            "514/514 [==============================] - 0s 449us/step - loss: 0.4191 - acc: 0.7977\n",
            "Epoch 30/150\n",
            "514/514 [==============================] - 0s 466us/step - loss: 0.4178 - acc: 0.7986\n",
            "Epoch 31/150\n",
            "514/514 [==============================] - 0s 474us/step - loss: 0.4165 - acc: 0.7957\n",
            "Epoch 32/150\n",
            "514/514 [==============================] - 0s 482us/step - loss: 0.4156 - acc: 0.7928\n",
            "Epoch 33/150\n",
            "514/514 [==============================] - 0s 465us/step - loss: 0.4143 - acc: 0.7996\n",
            "Epoch 34/150\n",
            "514/514 [==============================] - 0s 460us/step - loss: 0.4131 - acc: 0.7967\n",
            "Epoch 35/150\n",
            "514/514 [==============================] - 0s 455us/step - loss: 0.4117 - acc: 0.7986\n",
            "Epoch 36/150\n",
            "514/514 [==============================] - 0s 484us/step - loss: 0.4112 - acc: 0.8006\n",
            "Epoch 37/150\n",
            "514/514 [==============================] - 0s 459us/step - loss: 0.4105 - acc: 0.8006\n",
            "Epoch 38/150\n",
            "514/514 [==============================] - 0s 476us/step - loss: 0.4091 - acc: 0.8054\n",
            "Epoch 39/150\n",
            "514/514 [==============================] - 0s 453us/step - loss: 0.4075 - acc: 0.7996\n",
            "Epoch 40/150\n",
            "514/514 [==============================] - 0s 475us/step - loss: 0.4068 - acc: 0.7996\n",
            "Epoch 41/150\n",
            "514/514 [==============================] - 0s 448us/step - loss: 0.4057 - acc: 0.8006\n",
            "Epoch 42/150\n",
            "514/514 [==============================] - 0s 470us/step - loss: 0.4059 - acc: 0.8025\n",
            "Epoch 43/150\n",
            "514/514 [==============================] - 0s 454us/step - loss: 0.4049 - acc: 0.7986\n",
            "Epoch 44/150\n",
            "514/514 [==============================] - 0s 479us/step - loss: 0.4026 - acc: 0.8054\n",
            "Epoch 45/150\n",
            "514/514 [==============================] - 0s 457us/step - loss: 0.4013 - acc: 0.8045\n",
            "Epoch 46/150\n",
            "514/514 [==============================] - 0s 463us/step - loss: 0.4011 - acc: 0.8045\n",
            "Epoch 47/150\n",
            "514/514 [==============================] - 0s 471us/step - loss: 0.3997 - acc: 0.8064\n",
            "Epoch 48/150\n",
            "514/514 [==============================] - 0s 469us/step - loss: 0.3997 - acc: 0.8064\n",
            "Epoch 49/150\n",
            "514/514 [==============================] - 0s 484us/step - loss: 0.3977 - acc: 0.8084\n",
            "Epoch 50/150\n",
            "514/514 [==============================] - 0s 461us/step - loss: 0.3975 - acc: 0.8074\n",
            "Epoch 51/150\n",
            "514/514 [==============================] - 0s 455us/step - loss: 0.3948 - acc: 0.8084\n",
            "Epoch 52/150\n",
            "514/514 [==============================] - 0s 456us/step - loss: 0.3949 - acc: 0.8045\n",
            "Epoch 53/150\n",
            "514/514 [==============================] - 0s 499us/step - loss: 0.3938 - acc: 0.8084\n",
            "Epoch 54/150\n",
            "514/514 [==============================] - 0s 465us/step - loss: 0.3927 - acc: 0.8103\n",
            "Epoch 55/150\n",
            "514/514 [==============================] - 0s 454us/step - loss: 0.3918 - acc: 0.8093\n",
            "Epoch 56/150\n",
            "514/514 [==============================] - 0s 464us/step - loss: 0.3907 - acc: 0.8084\n",
            "Epoch 57/150\n",
            "514/514 [==============================] - 0s 475us/step - loss: 0.3905 - acc: 0.8074\n",
            "Epoch 58/150\n",
            "514/514 [==============================] - 0s 453us/step - loss: 0.3880 - acc: 0.8084\n",
            "Epoch 59/150\n",
            "514/514 [==============================] - 0s 452us/step - loss: 0.3873 - acc: 0.8093\n",
            "Epoch 60/150\n",
            "514/514 [==============================] - 0s 466us/step - loss: 0.3870 - acc: 0.8103\n",
            "Epoch 61/150\n",
            "514/514 [==============================] - 0s 466us/step - loss: 0.3850 - acc: 0.8103\n",
            "Epoch 62/150\n",
            "514/514 [==============================] - 0s 462us/step - loss: 0.3845 - acc: 0.8123\n",
            "Epoch 63/150\n",
            "514/514 [==============================] - 0s 469us/step - loss: 0.3841 - acc: 0.8142\n",
            "Epoch 64/150\n",
            "514/514 [==============================] - 0s 463us/step - loss: 0.3829 - acc: 0.8142\n",
            "Epoch 65/150\n",
            "514/514 [==============================] - 0s 495us/step - loss: 0.3823 - acc: 0.8152\n",
            "Epoch 66/150\n",
            "514/514 [==============================] - 0s 495us/step - loss: 0.3814 - acc: 0.8152\n",
            "Epoch 67/150\n",
            "514/514 [==============================] - 0s 467us/step - loss: 0.3802 - acc: 0.8171\n",
            "Epoch 68/150\n",
            "514/514 [==============================] - 0s 465us/step - loss: 0.3806 - acc: 0.8142\n",
            "Epoch 69/150\n",
            "514/514 [==============================] - 0s 481us/step - loss: 0.3789 - acc: 0.8210\n",
            "Epoch 70/150\n",
            "514/514 [==============================] - 0s 471us/step - loss: 0.3784 - acc: 0.8210\n",
            "Epoch 71/150\n",
            "514/514 [==============================] - 0s 467us/step - loss: 0.3772 - acc: 0.8171\n",
            "Epoch 72/150\n",
            "514/514 [==============================] - 0s 458us/step - loss: 0.3768 - acc: 0.8200\n",
            "Epoch 73/150\n",
            "514/514 [==============================] - 0s 461us/step - loss: 0.3753 - acc: 0.8230\n",
            "Epoch 74/150\n",
            "514/514 [==============================] - 0s 481us/step - loss: 0.3748 - acc: 0.8191\n",
            "Epoch 75/150\n",
            "514/514 [==============================] - 0s 464us/step - loss: 0.3738 - acc: 0.8220\n",
            "Epoch 76/150\n",
            "514/514 [==============================] - 0s 458us/step - loss: 0.3734 - acc: 0.8220\n",
            "Epoch 77/150\n",
            "514/514 [==============================] - 0s 461us/step - loss: 0.3725 - acc: 0.8210\n",
            "Epoch 78/150\n",
            "514/514 [==============================] - 0s 475us/step - loss: 0.3721 - acc: 0.8230\n",
            "Epoch 79/150\n",
            "514/514 [==============================] - 0s 461us/step - loss: 0.3707 - acc: 0.8220\n",
            "Epoch 80/150\n",
            "514/514 [==============================] - 0s 461us/step - loss: 0.3699 - acc: 0.8230\n",
            "Epoch 81/150\n",
            "514/514 [==============================] - 0s 459us/step - loss: 0.3691 - acc: 0.8200\n",
            "Epoch 82/150\n",
            "514/514 [==============================] - 0s 456us/step - loss: 0.3689 - acc: 0.8249\n",
            "Epoch 83/150\n",
            "514/514 [==============================] - 0s 481us/step - loss: 0.3673 - acc: 0.8249\n",
            "Epoch 84/150\n",
            "514/514 [==============================] - 0s 467us/step - loss: 0.3678 - acc: 0.8249\n",
            "Epoch 85/150\n",
            "514/514 [==============================] - 0s 462us/step - loss: 0.3664 - acc: 0.8220\n",
            "Epoch 86/150\n",
            "514/514 [==============================] - 0s 464us/step - loss: 0.3665 - acc: 0.8239\n",
            "Epoch 87/150\n",
            "514/514 [==============================] - 0s 476us/step - loss: 0.3653 - acc: 0.8239\n",
            "Epoch 88/150\n",
            "514/514 [==============================] - 0s 467us/step - loss: 0.3646 - acc: 0.8278\n",
            "Epoch 89/150\n",
            "514/514 [==============================] - 0s 488us/step - loss: 0.3644 - acc: 0.8230\n",
            "Epoch 90/150\n",
            "514/514 [==============================] - 0s 461us/step - loss: 0.3631 - acc: 0.8239\n",
            "Epoch 91/150\n",
            "514/514 [==============================] - 0s 478us/step - loss: 0.3627 - acc: 0.8317\n",
            "Epoch 92/150\n",
            "514/514 [==============================] - 0s 465us/step - loss: 0.3617 - acc: 0.8278\n",
            "Epoch 93/150\n",
            "514/514 [==============================] - 0s 462us/step - loss: 0.3621 - acc: 0.8278\n",
            "Epoch 94/150\n",
            "514/514 [==============================] - 0s 451us/step - loss: 0.3609 - acc: 0.8317\n",
            "Epoch 95/150\n",
            "514/514 [==============================] - 0s 474us/step - loss: 0.3603 - acc: 0.8298\n",
            "Epoch 96/150\n",
            "514/514 [==============================] - 0s 457us/step - loss: 0.3601 - acc: 0.8249\n",
            "Epoch 97/150\n",
            "514/514 [==============================] - 0s 465us/step - loss: 0.3575 - acc: 0.8288\n",
            "Epoch 98/150\n",
            "514/514 [==============================] - 0s 455us/step - loss: 0.3566 - acc: 0.8288\n",
            "Epoch 99/150\n",
            "514/514 [==============================] - 0s 457us/step - loss: 0.3561 - acc: 0.8327\n",
            "Epoch 100/150\n",
            "514/514 [==============================] - 0s 479us/step - loss: 0.3561 - acc: 0.8278\n",
            "Epoch 101/150\n",
            "514/514 [==============================] - 0s 459us/step - loss: 0.3548 - acc: 0.8337\n",
            "Epoch 102/150\n",
            "514/514 [==============================] - 0s 467us/step - loss: 0.3538 - acc: 0.8317\n",
            "Epoch 103/150\n",
            "514/514 [==============================] - 0s 455us/step - loss: 0.3537 - acc: 0.8327\n",
            "Epoch 104/150\n",
            "514/514 [==============================] - 0s 488us/step - loss: 0.3525 - acc: 0.8327\n",
            "Epoch 105/150\n",
            "514/514 [==============================] - 0s 461us/step - loss: 0.3516 - acc: 0.8346\n",
            "Epoch 106/150\n",
            "514/514 [==============================] - 0s 455us/step - loss: 0.3507 - acc: 0.8307\n",
            "Epoch 107/150\n",
            "514/514 [==============================] - 0s 450us/step - loss: 0.3500 - acc: 0.8327\n",
            "Epoch 108/150\n",
            "514/514 [==============================] - 0s 489us/step - loss: 0.3489 - acc: 0.8346\n",
            "Epoch 109/150\n",
            "514/514 [==============================] - 0s 473us/step - loss: 0.3482 - acc: 0.8327\n",
            "Epoch 110/150\n",
            "514/514 [==============================] - 0s 459us/step - loss: 0.3475 - acc: 0.8346\n",
            "Epoch 111/150\n",
            "514/514 [==============================] - 0s 452us/step - loss: 0.3469 - acc: 0.8307\n",
            "Epoch 112/150\n",
            "514/514 [==============================] - 0s 471us/step - loss: 0.3465 - acc: 0.8405\n",
            "Epoch 113/150\n",
            "514/514 [==============================] - 0s 462us/step - loss: 0.3457 - acc: 0.8327\n",
            "Epoch 114/150\n",
            "514/514 [==============================] - 0s 477us/step - loss: 0.3449 - acc: 0.8307\n",
            "Epoch 115/150\n",
            "514/514 [==============================] - 0s 456us/step - loss: 0.3430 - acc: 0.8366\n",
            "Epoch 116/150\n",
            "514/514 [==============================] - 0s 465us/step - loss: 0.3422 - acc: 0.8375\n",
            "Epoch 117/150\n",
            "514/514 [==============================] - 0s 480us/step - loss: 0.3419 - acc: 0.8405\n",
            "Epoch 118/150\n",
            "514/514 [==============================] - 0s 460us/step - loss: 0.3407 - acc: 0.8346\n",
            "Epoch 119/150\n",
            "514/514 [==============================] - 0s 461us/step - loss: 0.3405 - acc: 0.8346\n",
            "Epoch 120/150\n",
            "514/514 [==============================] - 0s 458us/step - loss: 0.3404 - acc: 0.8385\n",
            "Epoch 121/150\n",
            "514/514 [==============================] - 0s 475us/step - loss: 0.3396 - acc: 0.8366\n",
            "Epoch 122/150\n",
            "514/514 [==============================] - 0s 470us/step - loss: 0.3376 - acc: 0.8346\n",
            "Epoch 123/150\n",
            "514/514 [==============================] - 0s 452us/step - loss: 0.3381 - acc: 0.8385\n",
            "Epoch 124/150\n",
            "514/514 [==============================] - 0s 467us/step - loss: 0.3366 - acc: 0.8385\n",
            "Epoch 125/150\n",
            "514/514 [==============================] - 0s 489us/step - loss: 0.3365 - acc: 0.8405\n",
            "Epoch 126/150\n",
            "514/514 [==============================] - 0s 459us/step - loss: 0.3353 - acc: 0.8405\n",
            "Epoch 127/150\n",
            "514/514 [==============================] - 0s 455us/step - loss: 0.3341 - acc: 0.8414\n",
            "Epoch 128/150\n",
            "514/514 [==============================] - 0s 459us/step - loss: 0.3337 - acc: 0.8405\n",
            "Epoch 129/150\n",
            "514/514 [==============================] - 0s 476us/step - loss: 0.3341 - acc: 0.8434\n",
            "Epoch 130/150\n",
            "514/514 [==============================] - 0s 458us/step - loss: 0.3333 - acc: 0.8375\n",
            "Epoch 131/150\n",
            "514/514 [==============================] - 0s 460us/step - loss: 0.3330 - acc: 0.8405\n",
            "Epoch 132/150\n",
            "514/514 [==============================] - 0s 451us/step - loss: 0.3320 - acc: 0.8453\n",
            "Epoch 133/150\n",
            "514/514 [==============================] - 0s 472us/step - loss: 0.3303 - acc: 0.8463\n",
            "Epoch 134/150\n",
            "514/514 [==============================] - 0s 474us/step - loss: 0.3292 - acc: 0.8453\n",
            "Epoch 135/150\n",
            "514/514 [==============================] - 0s 466us/step - loss: 0.3282 - acc: 0.8444\n",
            "Epoch 136/150\n",
            "514/514 [==============================] - 0s 455us/step - loss: 0.3292 - acc: 0.8444\n",
            "Epoch 137/150\n",
            "514/514 [==============================] - 0s 457us/step - loss: 0.3268 - acc: 0.8463\n",
            "Epoch 138/150\n",
            "514/514 [==============================] - 0s 470us/step - loss: 0.3270 - acc: 0.8492\n",
            "Epoch 139/150\n",
            "514/514 [==============================] - 0s 450us/step - loss: 0.3261 - acc: 0.8424\n",
            "Epoch 140/150\n",
            "514/514 [==============================] - 0s 451us/step - loss: 0.3243 - acc: 0.8463\n",
            "Epoch 141/150\n",
            "514/514 [==============================] - 0s 464us/step - loss: 0.3259 - acc: 0.8482\n",
            "Epoch 142/150\n",
            "514/514 [==============================] - 0s 473us/step - loss: 0.3240 - acc: 0.8492\n",
            "Epoch 143/150\n",
            "514/514 [==============================] - 0s 470us/step - loss: 0.3233 - acc: 0.8444\n",
            "Epoch 144/150\n",
            "514/514 [==============================] - 0s 463us/step - loss: 0.3220 - acc: 0.8444\n",
            "Epoch 145/150\n",
            "514/514 [==============================] - 0s 468us/step - loss: 0.3221 - acc: 0.8541\n",
            "Epoch 146/150\n",
            "514/514 [==============================] - 0s 462us/step - loss: 0.3217 - acc: 0.8512\n",
            "Epoch 147/150\n",
            "514/514 [==============================] - 0s 475us/step - loss: 0.3205 - acc: 0.8521\n",
            "Epoch 148/150\n",
            "514/514 [==============================] - 0s 457us/step - loss: 0.3197 - acc: 0.8531\n",
            "Epoch 149/150\n",
            "514/514 [==============================] - 0s 455us/step - loss: 0.3185 - acc: 0.8512\n",
            "Epoch 150/150\n",
            "514/514 [==============================] - 0s 465us/step - loss: 0.3184 - acc: 0.8560\n"
          ],
          "name": "stdout"
        },
        {
          "output_type": "execute_result",
          "data": {
            "text/plain": [
              "<keras.callbacks.History at 0x7f3c0b64d6d8>"
            ]
          },
          "metadata": {
            "tags": []
          },
          "execution_count": 23
        }
      ]
    },
    {
      "metadata": {
        "id": "oGaAYJU0u9S0",
        "colab_type": "text"
      },
      "cell_type": "markdown",
      "source": [
        "# **Post training of the model.**"
      ]
    },
    {
      "metadata": {
        "id": "YYluzBBUy2WQ",
        "colab_type": "text"
      },
      "cell_type": "markdown",
      "source": [
        "* **Get a prediction.**\n",
        "* **Evaluate the accuracy of the prediction.**\n",
        "* **Plot the loss function.**"
      ]
    },
    {
      "metadata": {
        "id": "i0UQeVGkzYUR",
        "colab_type": "code",
        "outputId": "ce4e1074-f519-4d85-b431-a1b289e60bbb",
        "colab": {
          "base_uri": "https://localhost:8080/",
          "height": 34
        }
      },
      "cell_type": "code",
      "source": [
        "### Prediction and Evaluation \n",
        "y_pred = model.predict(X_test)\n",
        "\n",
        "y_pred = np.argmax(y_pred, axis=1) \n",
        "\n",
        "accuracy_score(y_test, y_pred) "
      ],
      "execution_count": 24,
      "outputs": [
        {
          "output_type": "execute_result",
          "data": {
            "text/plain": [
              "0.7440944881889764"
            ]
          },
          "metadata": {
            "tags": []
          },
          "execution_count": 24
        }
      ]
    },
    {
      "metadata": {
        "id": "ozTckBlYhxvK",
        "colab_type": "code",
        "outputId": "076684fb-b640-4e40-9f01-1afca3fb7cb9",
        "colab": {
          "base_uri": "https://localhost:8080/",
          "height": 378
        }
      },
      "cell_type": "code",
      "source": [
        "### Plot the loss against the epochs\n",
        "plt.plot(model.history.epoch, model.history.history['loss'])\n",
        "plt.xlabel('epochs')\n",
        "plt.ylabel('loss') "
      ],
      "execution_count": 25,
      "outputs": [
        {
          "output_type": "execute_result",
          "data": {
            "text/plain": [
              "Text(0, 0.5, 'loss')"
            ]
          },
          "metadata": {
            "tags": []
          },
          "execution_count": 25
        },
        {
          "output_type": "display_data",
          "data": {
            "image/png": "[encoded data removed]",
            "text/plain": [
              "<Figure size 576x396 with 1 Axes>"
            ]
          },
          "metadata": {
            "tags": []
          }
        }
      ]
    }
  ]
}