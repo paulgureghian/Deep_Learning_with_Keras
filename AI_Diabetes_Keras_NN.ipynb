{
  "nbformat": 4,
  "nbformat_minor": 0,
  "metadata": {
    "colab": {
      "name": "AI_Diabetes_Keras_NN.ipynb",
      "version": "0.3.2",
      "provenance": [],
      "collapsed_sections": [],
      "include_colab_link": true
    },
    "kernelspec": {
      "name": "python3",
      "display_name": "Python 3"
    },
    "accelerator": "GPU"
  },
  "cells": [
    {
      "cell_type": "markdown",
      "metadata": {
        "id": "view-in-github",
        "colab_type": "text"
      },
      "source": [
        "<a href=\"https://colab.research.google.com/github/paulgureghian/Deep_Learning_with_Keras/blob/master/AI_Diabetes_Keras_NN.ipynb\" target=\"_parent\"><img src=\"https://colab.research.google.com/assets/colab-badge.svg\" alt=\"Open In Colab\"/></a>"
      ]
    },
    {
      "metadata": {
        "id": "QepDoOmPHFya",
        "colab_type": "text"
      },
      "cell_type": "markdown",
      "source": [
        "## **Created by Paul A. Gureghian in Jan 2019.**\n",
        "\n",
        "**This Python notebook will build an AI application for** \n",
        "\n",
        "**detecting diabetes using a Keras Neural Network.**\n",
        "\n",
        "\n",
        "**The dataset used is:**    \n",
        "\n",
        "**'pima_indians_diabetes.csv'.**"
      ]
    },
    {
      "metadata": {
        "id": "P6QcV32jm_jT",
        "colab_type": "text"
      },
      "cell_type": "markdown",
      "source": [
        "# **Pre-process the data.**\n",
        "\n",
        "* **Mount Google drive.**\n",
        "* **Import packages.**\n",
        "* **Import dataset.**\n",
        "* **Pre-process the dataset.**"
      ]
    },
    {
      "metadata": {
        "id": "BLbcpcydQ_S_",
        "colab_type": "code",
        "outputId": "b5eec303-8b96-41b3-8e4e-8ad49d0eefc4",
        "colab": {
          "base_uri": "https://localhost:8080/",
          "height": 34
        }
      },
      "cell_type": "code",
      "source": [
        "### Mount Google drive\n",
        "from google.colab import drive\n",
        "drive.mount('/content/drive')"
      ],
      "execution_count": 27,
      "outputs": [
        {
          "output_type": "stream",
          "text": [
            "Drive already mounted at /content/drive; to attempt to forcibly remount, call drive.mount(\"/content/drive\", force_remount=True).\n"
          ],
          "name": "stdout"
        }
      ]
    },
    {
      "metadata": {
        "id": "rZbLyKaADRGn",
        "colab_type": "code",
        "colab": {}
      },
      "cell_type": "code",
      "source": [
        "### Import packages\n",
        "import numpy as np\n",
        "import pandas as pd \n",
        "from keras.layers import Dense\n",
        "import matplotlib.pyplot as plt\n",
        "from keras.utils import np_utils\n",
        "from keras.models import Sequential\n",
        "from sklearn.preprocessing import scale\n",
        "from sklearn.metrics import accuracy_score\n",
        "from sklearn.model_selection import train_test_split"
      ],
      "execution_count": 0,
      "outputs": []
    },
    {
      "metadata": {
        "id": "nuR1Vp1xPTzF",
        "colab_type": "code",
        "outputId": "d047f388-c59d-4c98-ed28-86caf8fb347b",
        "colab": {
          "base_uri": "https://localhost:8080/",
          "height": 204
        }
      },
      "cell_type": "code",
      "source": [
        "### Import the dataset\n",
        "names = ['Pregnancies', 'Glucose', 'BloodPressure', 'SkinThickness', 'Insulin',  \n",
        "         'BMI', 'DiabetesPedigreeFunction', 'Age', 'Class']\n",
        "\n",
        "df = pd.read_csv('/content/drive/My Drive/Pima_Indians_Diabetes/pima_indians_diabetes.csv', names=names)                        \n",
        "df.head() "
      ],
      "execution_count": 29,
      "outputs": [
        {
          "output_type": "execute_result",
          "data": {
            "text/html": [
              "<div>\n",
              "<style scoped>\n",
              "    .dataframe tbody tr th:only-of-type {\n",
              "        vertical-align: middle;\n",
              "    }\n",
              "\n",
              "    .dataframe tbody tr th {\n",
              "        vertical-align: top;\n",
              "    }\n",
              "\n",
              "    .dataframe thead th {\n",
              "        text-align: right;\n",
              "    }\n",
              "</style>\n",
              "<table border=\"1\" class=\"dataframe\">\n",
              "  <thead>\n",
              "    <tr style=\"text-align: right;\">\n",
              "      <th></th>\n",
              "      <th>Pregnancies</th>\n",
              "      <th>Glucose</th>\n",
              "      <th>BloodPressure</th>\n",
              "      <th>SkinThickness</th>\n",
              "      <th>Insulin</th>\n",
              "      <th>BMI</th>\n",
              "      <th>DiabetesPedigreeFunction</th>\n",
              "      <th>Age</th>\n",
              "      <th>Class</th>\n",
              "    </tr>\n",
              "  </thead>\n",
              "  <tbody>\n",
              "    <tr>\n",
              "      <th>0</th>\n",
              "      <td>6</td>\n",
              "      <td>148</td>\n",
              "      <td>72</td>\n",
              "      <td>35</td>\n",
              "      <td>0</td>\n",
              "      <td>33.6</td>\n",
              "      <td>0.627</td>\n",
              "      <td>50</td>\n",
              "      <td>1</td>\n",
              "    </tr>\n",
              "    <tr>\n",
              "      <th>1</th>\n",
              "      <td>1</td>\n",
              "      <td>85</td>\n",
              "      <td>66</td>\n",
              "      <td>29</td>\n",
              "      <td>0</td>\n",
              "      <td>26.6</td>\n",
              "      <td>0.351</td>\n",
              "      <td>31</td>\n",
              "      <td>0</td>\n",
              "    </tr>\n",
              "    <tr>\n",
              "      <th>2</th>\n",
              "      <td>8</td>\n",
              "      <td>183</td>\n",
              "      <td>64</td>\n",
              "      <td>0</td>\n",
              "      <td>0</td>\n",
              "      <td>23.3</td>\n",
              "      <td>0.672</td>\n",
              "      <td>32</td>\n",
              "      <td>1</td>\n",
              "    </tr>\n",
              "    <tr>\n",
              "      <th>3</th>\n",
              "      <td>1</td>\n",
              "      <td>89</td>\n",
              "      <td>66</td>\n",
              "      <td>23</td>\n",
              "      <td>94</td>\n",
              "      <td>28.1</td>\n",
              "      <td>0.167</td>\n",
              "      <td>21</td>\n",
              "      <td>0</td>\n",
              "    </tr>\n",
              "    <tr>\n",
              "      <th>4</th>\n",
              "      <td>0</td>\n",
              "      <td>137</td>\n",
              "      <td>40</td>\n",
              "      <td>35</td>\n",
              "      <td>168</td>\n",
              "      <td>43.1</td>\n",
              "      <td>2.288</td>\n",
              "      <td>33</td>\n",
              "      <td>1</td>\n",
              "    </tr>\n",
              "  </tbody>\n",
              "</table>\n",
              "</div>"
            ],
            "text/plain": [
              "   Pregnancies  Glucose  BloodPressure  SkinThickness  Insulin   BMI  \\\n",
              "0            6      148             72             35        0  33.6   \n",
              "1            1       85             66             29        0  26.6   \n",
              "2            8      183             64              0        0  23.3   \n",
              "3            1       89             66             23       94  28.1   \n",
              "4            0      137             40             35      168  43.1   \n",
              "\n",
              "   DiabetesPedigreeFunction  Age  Class  \n",
              "0                     0.627   50      1  \n",
              "1                     0.351   31      0  \n",
              "2                     0.672   32      1  \n",
              "3                     0.167   21      0  \n",
              "4                     2.288   33      1  "
            ]
          },
          "metadata": {
            "tags": []
          },
          "execution_count": 29
        }
      ]
    },
    {
      "metadata": {
        "id": "Xuw2fOrqTOt9",
        "colab_type": "code",
        "outputId": "922aaa56-59fc-4571-8525-a18b989d0013",
        "colab": {
          "base_uri": "https://localhost:8080/",
          "height": 425
        }
      },
      "cell_type": "code",
      "source": [
        "### Set the feature and target variables \n",
        "X = df.drop('Class', axis=1)\n",
        "y = df['Class'] \n",
        "\n",
        "print('X:\\n\\n', X.head(), '\\n')\n",
        "print('y:\\n\\n', y.head()) "
      ],
      "execution_count": 30,
      "outputs": [
        {
          "output_type": "stream",
          "text": [
            "X:\n",
            "\n",
            "    Pregnancies  Glucose  BloodPressure  SkinThickness  Insulin   BMI  \\\n",
            "0            6      148             72             35        0  33.6   \n",
            "1            1       85             66             29        0  26.6   \n",
            "2            8      183             64              0        0  23.3   \n",
            "3            1       89             66             23       94  28.1   \n",
            "4            0      137             40             35      168  43.1   \n",
            "\n",
            "   DiabetesPedigreeFunction  Age  \n",
            "0                     0.627   50  \n",
            "1                     0.351   31  \n",
            "2                     0.672   32  \n",
            "3                     0.167   21  \n",
            "4                     2.288   33   \n",
            "\n",
            "y:\n",
            "\n",
            " 0    1\n",
            "1    0\n",
            "2    1\n",
            "3    0\n",
            "4    1\n",
            "Name: Class, dtype: int64\n"
          ],
          "name": "stdout"
        }
      ]
    },
    {
      "metadata": {
        "id": "3AA_7GdtWZJ_",
        "colab_type": "code",
        "outputId": "4a11b52d-19e9-437d-bd23-e9113d5280d9",
        "colab": {
          "base_uri": "https://localhost:8080/",
          "height": 309
        }
      },
      "cell_type": "code",
      "source": [
        "### Scale the data\n",
        "X = scale(X) \n",
        "\n",
        "print('Scaled_X:\\n', X) "
      ],
      "execution_count": 31,
      "outputs": [
        {
          "output_type": "stream",
          "text": [
            "Scaled_X:\n",
            " [[ 0.63994726  0.84832379  0.14964075 ...  0.20401277  0.46849198\n",
            "   1.4259954 ]\n",
            " [-0.84488505 -1.12339636 -0.16054575 ... -0.68442195 -0.36506078\n",
            "  -0.19067191]\n",
            " [ 1.23388019  1.94372388 -0.26394125 ... -1.10325546  0.60439732\n",
            "  -0.10558415]\n",
            " ...\n",
            " [ 0.3429808   0.00330087  0.14964075 ... -0.73518964 -0.68519336\n",
            "  -0.27575966]\n",
            " [-0.84488505  0.1597866  -0.47073225 ... -0.24020459 -0.37110101\n",
            "   1.17073215]\n",
            " [-0.84488505 -0.8730192   0.04624525 ... -0.20212881 -0.47378505\n",
            "  -0.87137393]]\n"
          ],
          "name": "stdout"
        },
        {
          "output_type": "stream",
          "text": [
            "/usr/local/lib/python3.6/dist-packages/ipykernel_launcher.py:1: DataConversionWarning: Data with input dtype int64, float64 were all converted to float64 by the scale function.\n",
            "  \"\"\"Entry point for launching an IPython kernel.\n"
          ],
          "name": "stderr"
        }
      ]
    },
    {
      "metadata": {
        "id": "9lSx1iaGX1Eq",
        "colab_type": "code",
        "colab": {}
      },
      "cell_type": "code",
      "source": [
        "### Split dataset into 'train' & 'test' sets\n",
        "X_train, X_test, y_train, y_test = train_test_split(X, y, test_size=0.33, random_state=42)"
      ],
      "execution_count": 0,
      "outputs": []
    },
    {
      "metadata": {
        "id": "PEbb3rnwijP5",
        "colab_type": "code",
        "outputId": "bd34548c-2dee-42b8-db89-0458537ee5e5",
        "colab": {
          "base_uri": "https://localhost:8080/",
          "height": 153
        }
      },
      "cell_type": "code",
      "source": [
        "### One hot encoding the target variable\n",
        "y_train = np_utils.to_categorical(y_train)\n",
        "\n",
        "print('Y_Train Encoded:\\n', y_train) "
      ],
      "execution_count": 33,
      "outputs": [
        {
          "output_type": "stream",
          "text": [
            "Y_Train Encoded:\n",
            " [[1. 0.]\n",
            " [1. 0.]\n",
            " [1. 0.]\n",
            " ...\n",
            " [0. 1.]\n",
            " [0. 1.]\n",
            " [1. 0.]]\n"
          ],
          "name": "stdout"
        }
      ]
    },
    {
      "metadata": {
        "id": "pwRXNPFeoqAa",
        "colab_type": "text"
      },
      "cell_type": "markdown",
      "source": [
        "# **Design and build the neural network model.**"
      ]
    },
    {
      "metadata": {
        "id": "zwc1sHLPqEgR",
        "colab_type": "text"
      },
      "cell_type": "markdown",
      "source": [
        "  **The model design:**\n",
        "  \n",
        "  * **3 layers.**\n",
        "  * **22 total neurons.**\n",
        "  * **Relu & Sigmoid activation functions.**"
      ]
    },
    {
      "metadata": {
        "id": "U8X47ruBsEzB",
        "colab_type": "code",
        "colab": {}
      },
      "cell_type": "code",
      "source": [
        "### Define the neural network model\n",
        "model = Sequential()\n",
        "model.add(Dense(12, input_dim=8, activation='relu'))\n",
        "model.add(Dense(8, activation='relu'))\n",
        "model.add(Dense(2, activation='sigmoid'))"
      ],
      "execution_count": 0,
      "outputs": []
    },
    {
      "metadata": {
        "id": "djux0lYatPvx",
        "colab_type": "code",
        "colab": {}
      },
      "cell_type": "code",
      "source": [
        "### Compile the model\n",
        "model.compile(loss='binary_crossentropy', optimizer='adam', metrics=['accuracy'])  "
      ],
      "execution_count": 0,
      "outputs": []
    },
    {
      "metadata": {
        "id": "5C0c4sx9uA4h",
        "colab_type": "code",
        "outputId": "dfba65ab-e5d2-4221-e6e4-985b665c0464",
        "colab": {
          "base_uri": "https://localhost:8080/",
          "height": 5134
        }
      },
      "cell_type": "code",
      "source": [
        "### Train the model on the training sets\n",
        "model.fit(X_train, y_train, epochs=150, batch_size=10) "
      ],
      "execution_count": 36,
      "outputs": [
        {
          "output_type": "stream",
          "text": [
            "Epoch 1/150\n",
            "514/514 [==============================] - 0s 875us/step - loss: 0.6793 - acc: 0.5457\n",
            "Epoch 2/150\n",
            "514/514 [==============================] - 0s 408us/step - loss: 0.6512 - acc: 0.6566\n",
            "Epoch 3/150\n",
            "514/514 [==============================] - 0s 416us/step - loss: 0.6173 - acc: 0.6566\n",
            "Epoch 4/150\n",
            "514/514 [==============================] - 0s 424us/step - loss: 0.5872 - acc: 0.6537\n",
            "Epoch 5/150\n",
            "514/514 [==============================] - 0s 457us/step - loss: 0.5635 - acc: 0.6702\n",
            "Epoch 6/150\n",
            "514/514 [==============================] - 0s 489us/step - loss: 0.5462 - acc: 0.6858\n",
            "Epoch 7/150\n",
            "514/514 [==============================] - 0s 493us/step - loss: 0.5320 - acc: 0.7053\n",
            "Epoch 8/150\n",
            "514/514 [==============================] - 0s 475us/step - loss: 0.5206 - acc: 0.7218\n",
            "Epoch 9/150\n",
            "514/514 [==============================] - 0s 454us/step - loss: 0.5089 - acc: 0.7422\n",
            "Epoch 10/150\n",
            "514/514 [==============================] - 0s 467us/step - loss: 0.4993 - acc: 0.7510\n",
            "Epoch 11/150\n",
            "514/514 [==============================] - 0s 477us/step - loss: 0.4919 - acc: 0.7656\n",
            "Epoch 12/150\n",
            "514/514 [==============================] - 0s 468us/step - loss: 0.4839 - acc: 0.7646\n",
            "Epoch 13/150\n",
            "514/514 [==============================] - 0s 454us/step - loss: 0.4781 - acc: 0.7665\n",
            "Epoch 14/150\n",
            "514/514 [==============================] - 0s 464us/step - loss: 0.4724 - acc: 0.7743\n",
            "Epoch 15/150\n",
            "514/514 [==============================] - 0s 486us/step - loss: 0.4679 - acc: 0.7714\n",
            "Epoch 16/150\n",
            "514/514 [==============================] - 0s 472us/step - loss: 0.4642 - acc: 0.7753\n",
            "Epoch 17/150\n",
            "514/514 [==============================] - 0s 458us/step - loss: 0.4604 - acc: 0.7695\n",
            "Epoch 18/150\n",
            "514/514 [==============================] - 0s 468us/step - loss: 0.4572 - acc: 0.7811\n",
            "Epoch 19/150\n",
            "514/514 [==============================] - 0s 458us/step - loss: 0.4545 - acc: 0.7831\n",
            "Epoch 20/150\n",
            "514/514 [==============================] - 0s 480us/step - loss: 0.4518 - acc: 0.7840\n",
            "Epoch 21/150\n",
            "514/514 [==============================] - 0s 462us/step - loss: 0.4494 - acc: 0.7850\n",
            "Epoch 22/150\n",
            "514/514 [==============================] - 0s 458us/step - loss: 0.4469 - acc: 0.7850\n",
            "Epoch 23/150\n",
            "514/514 [==============================] - 0s 460us/step - loss: 0.4454 - acc: 0.7840\n",
            "Epoch 24/150\n",
            "514/514 [==============================] - 0s 479us/step - loss: 0.4435 - acc: 0.7840\n",
            "Epoch 25/150\n",
            "514/514 [==============================] - 0s 454us/step - loss: 0.4415 - acc: 0.7821\n",
            "Epoch 26/150\n",
            "514/514 [==============================] - 0s 471us/step - loss: 0.4397 - acc: 0.7811\n",
            "Epoch 27/150\n",
            "514/514 [==============================] - 0s 459us/step - loss: 0.4379 - acc: 0.7831\n",
            "Epoch 28/150\n",
            "514/514 [==============================] - 0s 470us/step - loss: 0.4365 - acc: 0.7772\n",
            "Epoch 29/150\n",
            "514/514 [==============================] - 0s 461us/step - loss: 0.4340 - acc: 0.7850\n",
            "Epoch 30/150\n",
            "514/514 [==============================] - 0s 469us/step - loss: 0.4318 - acc: 0.7899\n",
            "Epoch 31/150\n",
            "514/514 [==============================] - 0s 457us/step - loss: 0.4307 - acc: 0.7889\n",
            "Epoch 32/150\n",
            "514/514 [==============================] - 0s 482us/step - loss: 0.4297 - acc: 0.7879\n",
            "Epoch 33/150\n",
            "514/514 [==============================] - 0s 454us/step - loss: 0.4277 - acc: 0.7870\n",
            "Epoch 34/150\n",
            "514/514 [==============================] - 0s 460us/step - loss: 0.4270 - acc: 0.7889\n",
            "Epoch 35/150\n",
            "514/514 [==============================] - 0s 471us/step - loss: 0.4247 - acc: 0.7918\n",
            "Epoch 36/150\n",
            "514/514 [==============================] - 0s 455us/step - loss: 0.4229 - acc: 0.7928\n",
            "Epoch 37/150\n",
            "514/514 [==============================] - 0s 472us/step - loss: 0.4222 - acc: 0.7909\n",
            "Epoch 38/150\n",
            "514/514 [==============================] - 0s 468us/step - loss: 0.4185 - acc: 0.7977\n",
            "Epoch 39/150\n",
            "514/514 [==============================] - 0s 467us/step - loss: 0.4187 - acc: 0.7957\n",
            "Epoch 40/150\n",
            "514/514 [==============================] - 0s 458us/step - loss: 0.4160 - acc: 0.7938\n",
            "Epoch 41/150\n",
            "514/514 [==============================] - 0s 480us/step - loss: 0.4144 - acc: 0.7977\n",
            "Epoch 42/150\n",
            "514/514 [==============================] - 0s 471us/step - loss: 0.4140 - acc: 0.8006\n",
            "Epoch 43/150\n",
            "514/514 [==============================] - 0s 469us/step - loss: 0.4114 - acc: 0.8035\n",
            "Epoch 44/150\n",
            "514/514 [==============================] - 0s 465us/step - loss: 0.4113 - acc: 0.7957\n",
            "Epoch 45/150\n",
            "514/514 [==============================] - 0s 477us/step - loss: 0.4095 - acc: 0.8025\n",
            "Epoch 46/150\n",
            "514/514 [==============================] - 0s 461us/step - loss: 0.4081 - acc: 0.8006\n",
            "Epoch 47/150\n",
            "514/514 [==============================] - 0s 463us/step - loss: 0.4071 - acc: 0.8006\n",
            "Epoch 48/150\n",
            "514/514 [==============================] - 0s 464us/step - loss: 0.4048 - acc: 0.8035\n",
            "Epoch 49/150\n",
            "514/514 [==============================] - 0s 484us/step - loss: 0.4046 - acc: 0.8045\n",
            "Epoch 50/150\n",
            "514/514 [==============================] - 0s 455us/step - loss: 0.4040 - acc: 0.8084\n",
            "Epoch 51/150\n",
            "514/514 [==============================] - 0s 479us/step - loss: 0.4031 - acc: 0.8025\n",
            "Epoch 52/150\n",
            "514/514 [==============================] - 0s 476us/step - loss: 0.4016 - acc: 0.8045\n",
            "Epoch 53/150\n",
            "514/514 [==============================] - 0s 454us/step - loss: 0.4017 - acc: 0.7996\n",
            "Epoch 54/150\n",
            "514/514 [==============================] - 0s 472us/step - loss: 0.4007 - acc: 0.7986\n",
            "Epoch 55/150\n",
            "514/514 [==============================] - 0s 471us/step - loss: 0.3999 - acc: 0.8064\n",
            "Epoch 56/150\n",
            "514/514 [==============================] - 0s 452us/step - loss: 0.3990 - acc: 0.8045\n",
            "Epoch 57/150\n",
            "514/514 [==============================] - 0s 470us/step - loss: 0.3987 - acc: 0.8084\n",
            "Epoch 58/150\n",
            "514/514 [==============================] - 0s 476us/step - loss: 0.3982 - acc: 0.8074\n",
            "Epoch 59/150\n",
            "514/514 [==============================] - 0s 468us/step - loss: 0.3966 - acc: 0.8084\n",
            "Epoch 60/150\n",
            "514/514 [==============================] - 0s 455us/step - loss: 0.3959 - acc: 0.8103\n",
            "Epoch 61/150\n",
            "514/514 [==============================] - 0s 464us/step - loss: 0.3953 - acc: 0.8142\n",
            "Epoch 62/150\n",
            "514/514 [==============================] - 0s 478us/step - loss: 0.3946 - acc: 0.8152\n",
            "Epoch 63/150\n",
            "514/514 [==============================] - 0s 470us/step - loss: 0.3946 - acc: 0.8113\n",
            "Epoch 64/150\n",
            "514/514 [==============================] - 0s 468us/step - loss: 0.3944 - acc: 0.8142\n",
            "Epoch 65/150\n",
            "514/514 [==============================] - 0s 474us/step - loss: 0.3919 - acc: 0.8152\n",
            "Epoch 66/150\n",
            "514/514 [==============================] - 0s 475us/step - loss: 0.3929 - acc: 0.8181\n",
            "Epoch 67/150\n",
            "514/514 [==============================] - 0s 455us/step - loss: 0.3922 - acc: 0.8142\n",
            "Epoch 68/150\n",
            "514/514 [==============================] - 0s 468us/step - loss: 0.3921 - acc: 0.8161\n",
            "Epoch 69/150\n",
            "514/514 [==============================] - 0s 461us/step - loss: 0.3906 - acc: 0.8171\n",
            "Epoch 70/150\n",
            "514/514 [==============================] - 0s 469us/step - loss: 0.3912 - acc: 0.8123\n",
            "Epoch 71/150\n",
            "514/514 [==============================] - 0s 487us/step - loss: 0.3911 - acc: 0.8142\n",
            "Epoch 72/150\n",
            "514/514 [==============================] - 0s 471us/step - loss: 0.3890 - acc: 0.8200\n",
            "Epoch 73/150\n",
            "514/514 [==============================] - 0s 466us/step - loss: 0.3894 - acc: 0.8161\n",
            "Epoch 74/150\n",
            "514/514 [==============================] - 0s 450us/step - loss: 0.3900 - acc: 0.8191\n",
            "Epoch 75/150\n",
            "514/514 [==============================] - 0s 478us/step - loss: 0.3883 - acc: 0.8152\n",
            "Epoch 76/150\n",
            "514/514 [==============================] - 0s 468us/step - loss: 0.3880 - acc: 0.8161\n",
            "Epoch 77/150\n",
            "514/514 [==============================] - 0s 471us/step - loss: 0.3883 - acc: 0.8142\n",
            "Epoch 78/150\n",
            "514/514 [==============================] - 0s 456us/step - loss: 0.3870 - acc: 0.8191\n",
            "Epoch 79/150\n",
            "514/514 [==============================] - 0s 467us/step - loss: 0.3863 - acc: 0.8191\n",
            "Epoch 80/150\n",
            "514/514 [==============================] - 0s 464us/step - loss: 0.3863 - acc: 0.8161\n",
            "Epoch 81/150\n",
            "514/514 [==============================] - 0s 462us/step - loss: 0.3856 - acc: 0.8191\n",
            "Epoch 82/150\n",
            "514/514 [==============================] - 0s 454us/step - loss: 0.3854 - acc: 0.8161\n",
            "Epoch 83/150\n",
            "514/514 [==============================] - 0s 477us/step - loss: 0.3858 - acc: 0.8142\n",
            "Epoch 84/150\n",
            "514/514 [==============================] - 0s 459us/step - loss: 0.3851 - acc: 0.8210\n",
            "Epoch 85/150\n",
            "514/514 [==============================] - 0s 457us/step - loss: 0.3857 - acc: 0.8181\n",
            "Epoch 86/150\n",
            "514/514 [==============================] - 0s 467us/step - loss: 0.3861 - acc: 0.8171\n",
            "Epoch 87/150\n",
            "514/514 [==============================] - 0s 466us/step - loss: 0.3834 - acc: 0.8152\n",
            "Epoch 88/150\n",
            "514/514 [==============================] - 0s 483us/step - loss: 0.3836 - acc: 0.8181\n",
            "Epoch 89/150\n",
            "514/514 [==============================] - 0s 468us/step - loss: 0.3831 - acc: 0.8191\n",
            "Epoch 90/150\n",
            "514/514 [==============================] - 0s 463us/step - loss: 0.3831 - acc: 0.8181\n",
            "Epoch 91/150\n",
            "514/514 [==============================] - 0s 455us/step - loss: 0.3808 - acc: 0.8210\n",
            "Epoch 92/150\n",
            "514/514 [==============================] - 0s 485us/step - loss: 0.3826 - acc: 0.8161\n",
            "Epoch 93/150\n",
            "514/514 [==============================] - 0s 463us/step - loss: 0.3823 - acc: 0.8210\n",
            "Epoch 94/150\n",
            "514/514 [==============================] - 0s 459us/step - loss: 0.3812 - acc: 0.8161\n",
            "Epoch 95/150\n",
            "514/514 [==============================] - 0s 458us/step - loss: 0.3812 - acc: 0.8171\n",
            "Epoch 96/150\n",
            "514/514 [==============================] - 0s 481us/step - loss: 0.3804 - acc: 0.8152\n",
            "Epoch 97/150\n",
            "514/514 [==============================] - 0s 470us/step - loss: 0.3801 - acc: 0.8191\n",
            "Epoch 98/150\n",
            "514/514 [==============================] - 0s 459us/step - loss: 0.3791 - acc: 0.8191\n",
            "Epoch 99/150\n",
            "514/514 [==============================] - 0s 466us/step - loss: 0.3788 - acc: 0.8161\n",
            "Epoch 100/150\n",
            "514/514 [==============================] - 0s 473us/step - loss: 0.3784 - acc: 0.8191\n",
            "Epoch 101/150\n",
            "514/514 [==============================] - 0s 455us/step - loss: 0.3791 - acc: 0.8220\n",
            "Epoch 102/150\n",
            "514/514 [==============================] - 0s 458us/step - loss: 0.3777 - acc: 0.8171\n",
            "Epoch 103/150\n",
            "514/514 [==============================] - 0s 452us/step - loss: 0.3778 - acc: 0.8152\n",
            "Epoch 104/150\n",
            "514/514 [==============================] - 0s 475us/step - loss: 0.3782 - acc: 0.8191\n",
            "Epoch 105/150\n",
            "514/514 [==============================] - 0s 473us/step - loss: 0.3771 - acc: 0.8210\n",
            "Epoch 106/150\n",
            "514/514 [==============================] - 0s 466us/step - loss: 0.3758 - acc: 0.8200\n",
            "Epoch 107/150\n",
            "514/514 [==============================] - 0s 465us/step - loss: 0.3763 - acc: 0.8200\n",
            "Epoch 108/150\n",
            "514/514 [==============================] - 0s 464us/step - loss: 0.3756 - acc: 0.8230\n",
            "Epoch 109/150\n",
            "514/514 [==============================] - 0s 485us/step - loss: 0.3751 - acc: 0.8191\n",
            "Epoch 110/150\n",
            "514/514 [==============================] - 0s 466us/step - loss: 0.3748 - acc: 0.8200\n",
            "Epoch 111/150\n",
            "514/514 [==============================] - 0s 469us/step - loss: 0.3739 - acc: 0.8268\n",
            "Epoch 112/150\n",
            "514/514 [==============================] - 0s 463us/step - loss: 0.3745 - acc: 0.8230\n",
            "Epoch 113/150\n",
            "514/514 [==============================] - 0s 479us/step - loss: 0.3738 - acc: 0.8191\n",
            "Epoch 114/150\n",
            "514/514 [==============================] - 0s 455us/step - loss: 0.3723 - acc: 0.8210\n",
            "Epoch 115/150\n",
            "514/514 [==============================] - 0s 482us/step - loss: 0.3726 - acc: 0.8210\n",
            "Epoch 116/150\n",
            "514/514 [==============================] - 0s 476us/step - loss: 0.3731 - acc: 0.8210\n",
            "Epoch 117/150\n",
            "514/514 [==============================] - 0s 475us/step - loss: 0.3718 - acc: 0.8278\n",
            "Epoch 118/150\n",
            "514/514 [==============================] - 0s 458us/step - loss: 0.3706 - acc: 0.8210\n",
            "Epoch 119/150\n",
            "514/514 [==============================] - 0s 460us/step - loss: 0.3701 - acc: 0.8259\n",
            "Epoch 120/150\n",
            "514/514 [==============================] - 0s 466us/step - loss: 0.3719 - acc: 0.8181\n",
            "Epoch 121/150\n",
            "514/514 [==============================] - 0s 473us/step - loss: 0.3704 - acc: 0.8200\n",
            "Epoch 122/150\n",
            "514/514 [==============================] - 0s 477us/step - loss: 0.3692 - acc: 0.8249\n",
            "Epoch 123/150\n",
            "514/514 [==============================] - 0s 462us/step - loss: 0.3699 - acc: 0.8200\n",
            "Epoch 124/150\n",
            "514/514 [==============================] - 0s 459us/step - loss: 0.3687 - acc: 0.8259\n",
            "Epoch 125/150\n",
            "514/514 [==============================] - 0s 461us/step - loss: 0.3693 - acc: 0.8239\n",
            "Epoch 126/150\n",
            "514/514 [==============================] - 0s 472us/step - loss: 0.3678 - acc: 0.8249\n",
            "Epoch 127/150\n",
            "514/514 [==============================] - 0s 465us/step - loss: 0.3689 - acc: 0.8268\n",
            "Epoch 128/150\n",
            "514/514 [==============================] - 0s 462us/step - loss: 0.3685 - acc: 0.8210\n",
            "Epoch 129/150\n",
            "514/514 [==============================] - 0s 458us/step - loss: 0.3689 - acc: 0.8239\n",
            "Epoch 130/150\n",
            "514/514 [==============================] - 0s 472us/step - loss: 0.3676 - acc: 0.8268\n",
            "Epoch 131/150\n",
            "514/514 [==============================] - 0s 453us/step - loss: 0.3675 - acc: 0.8259\n",
            "Epoch 132/150\n",
            "514/514 [==============================] - 0s 464us/step - loss: 0.3658 - acc: 0.8259\n",
            "Epoch 133/150\n",
            "514/514 [==============================] - 0s 461us/step - loss: 0.3653 - acc: 0.8230\n",
            "Epoch 134/150\n",
            "514/514 [==============================] - 0s 476us/step - loss: 0.3652 - acc: 0.8278\n",
            "Epoch 135/150\n",
            "514/514 [==============================] - 0s 460us/step - loss: 0.3678 - acc: 0.8288\n",
            "Epoch 136/150\n",
            "514/514 [==============================] - 0s 456us/step - loss: 0.3649 - acc: 0.8288\n",
            "Epoch 137/150\n",
            "514/514 [==============================] - 0s 458us/step - loss: 0.3650 - acc: 0.8210\n",
            "Epoch 138/150\n",
            "514/514 [==============================] - 0s 471us/step - loss: 0.3654 - acc: 0.8230\n",
            "Epoch 139/150\n",
            "514/514 [==============================] - 0s 475us/step - loss: 0.3660 - acc: 0.8298\n",
            "Epoch 140/150\n",
            "514/514 [==============================] - 0s 461us/step - loss: 0.3639 - acc: 0.8278\n",
            "Epoch 141/150\n",
            "514/514 [==============================] - 0s 466us/step - loss: 0.3638 - acc: 0.8249\n",
            "Epoch 142/150\n",
            "514/514 [==============================] - 0s 467us/step - loss: 0.3643 - acc: 0.8298\n",
            "Epoch 143/150\n",
            "514/514 [==============================] - 0s 481us/step - loss: 0.3645 - acc: 0.8288\n",
            "Epoch 144/150\n",
            "514/514 [==============================] - 0s 473us/step - loss: 0.3628 - acc: 0.8259\n",
            "Epoch 145/150\n",
            "514/514 [==============================] - 0s 471us/step - loss: 0.3638 - acc: 0.8278\n",
            "Epoch 146/150\n",
            "514/514 [==============================] - 0s 465us/step - loss: 0.3622 - acc: 0.8327\n",
            "Epoch 147/150\n",
            "514/514 [==============================] - 0s 468us/step - loss: 0.3615 - acc: 0.8288\n",
            "Epoch 148/150\n",
            "514/514 [==============================] - 0s 463us/step - loss: 0.3607 - acc: 0.8307\n",
            "Epoch 149/150\n",
            "514/514 [==============================] - 0s 464us/step - loss: 0.3604 - acc: 0.8327\n",
            "Epoch 150/150\n",
            "514/514 [==============================] - 0s 466us/step - loss: 0.3607 - acc: 0.8307\n"
          ],
          "name": "stdout"
        },
        {
          "output_type": "execute_result",
          "data": {
            "text/plain": [
              "<keras.callbacks.History at 0x7f3bc2b0ca90>"
            ]
          },
          "metadata": {
            "tags": []
          },
          "execution_count": 36
        }
      ]
    },
    {
      "metadata": {
        "id": "oGaAYJU0u9S0",
        "colab_type": "text"
      },
      "cell_type": "markdown",
      "source": [
        "# **Post training of the model.**"
      ]
    },
    {
      "metadata": {
        "id": "YYluzBBUy2WQ",
        "colab_type": "text"
      },
      "cell_type": "markdown",
      "source": [
        "* **Get a prediction.**\n",
        "* **Evaluate the accuracy of the prediction.**\n",
        "* **Plot the loss function.**"
      ]
    },
    {
      "metadata": {
        "id": "i0UQeVGkzYUR",
        "colab_type": "code",
        "outputId": "c9ba9480-902e-400b-ba3d-85c4629db6c1",
        "colab": {
          "base_uri": "https://localhost:8080/",
          "height": 34
        }
      },
      "cell_type": "code",
      "source": [
        "### Prediction and Evaluation \n",
        "y_pred = model.predict(X_test)\n",
        "\n",
        "y_pred = np.argmax(y_pred, axis=1) \n",
        "\n",
        "accuracy_score(y_test, y_pred) "
      ],
      "execution_count": 37,
      "outputs": [
        {
          "output_type": "execute_result",
          "data": {
            "text/plain": [
              "0.7322834645669292"
            ]
          },
          "metadata": {
            "tags": []
          },
          "execution_count": 37
        }
      ]
    },
    {
      "metadata": {
        "id": "ozTckBlYhxvK",
        "colab_type": "code",
        "outputId": "df1bbaa5-820d-42c4-c7c0-c46e3f74f4e0",
        "colab": {
          "base_uri": "https://localhost:8080/",
          "height": 378
        }
      },
      "cell_type": "code",
      "source": [
        "### Plot the loss against the epochs\n",
        "plt.plot(model.history.epoch, model.history.history['loss'])\n",
        "plt.xlabel('epochs')\n",
        "plt.ylabel('loss') "
      ],
      "execution_count": 38,
      "outputs": [
        {
          "output_type": "execute_result",
          "data": {
            "text/plain": [
              "Text(0, 0.5, 'loss')"
            ]
          },
          "metadata": {
            "tags": []
          },
          "execution_count": 38
        },
        {
          "output_type": "display_data",
          "data": {
            "image/png": "[encoded data removed]",
            "text/plain": [
              "<Figure size 576x396 with 1 Axes>"
            ]
          },
          "metadata": {
            "tags": []
          }
        }
      ]
    }
  ]
}