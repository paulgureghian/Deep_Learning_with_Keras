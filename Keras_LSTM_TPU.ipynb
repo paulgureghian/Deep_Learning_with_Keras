{
  "nbformat": 4,
  "nbformat_minor": 0,
  "metadata": {
    "colab": {
      "name": "Keras_LSTM_TPU.ipynb",
      "version": "0.3.2",
      "provenance": [],
      "collapsed_sections": [],
      "include_colab_link": true
    },
    "kernelspec": {
      "name": "python3",
      "display_name": "Python 3"
    },
    "accelerator": "TPU"
  },
  "cells": [
    {
      "cell_type": "markdown",
      "metadata": {
        "id": "view-in-github",
        "colab_type": "text"
      },
      "source": [
        "<a href=\"https://colab.research.google.com/github/paulgureghian/Deep_Learning_with_Keras/blob/master/Keras_LSTM_TPU.ipynb\" target=\"_parent\"><img src=\"https://colab.research.google.com/assets/colab-badge.svg\" alt=\"Open In Colab\"/></a>"
      ]
    },
    {
      "metadata": {
        "id": "T3AXkcYt0y1X",
        "colab_type": "text"
      },
      "cell_type": "markdown",
      "source": [
        "**Created by Paul A. Gureghian in Jan 2019.**\n"
      ]
    },
    {
      "metadata": {
        "id": "UCToxV9u07c5",
        "colab_type": "text"
      },
      "cell_type": "markdown",
      "source": [
        "**Build and train a Keras LSTM model on Colab's TPU runtime.**"
      ]
    },
    {
      "metadata": {
        "id": "ard5LWsCzc_G",
        "colab_type": "code",
        "colab": {}
      },
      "cell_type": "code",
      "source": [
        "### Import packages\n",
        "import tensorflow as tf\n",
        "from tensorflow.keras.datasets import imdb\n",
        "from tensorflow.keras.preprocessing import sequence\n",
        "from tensorflow.python.keras.layers import Input, LSTM, Bidirectional, Dense, Embedding "
      ],
      "execution_count": 0,
      "outputs": []
    },
    {
      "metadata": {
        "id": "u-ynYUSU26O3",
        "colab_type": "code",
        "colab": {}
      },
      "cell_type": "code",
      "source": [
        "### Number of word features\n",
        "max_features = 10000\n",
        "\n",
        "### Cut texts after this threshold\n",
        "maxlen = 500\n",
        "\n",
        "### Load the data \n",
        "(x_train, y_train),(x_test, y_test) = imdb.load_data(num_words =max_features) \n",
        "\n",
        "### Reverse sequences\n",
        "x_train = [x[::-1] for x in x_train]\n",
        "x_test = [x[::-1] for x in x_test] \n",
        "\n",
        "### Pad sequences\n",
        "x_train = sequence.pad_sequences(x_train, maxlen =maxlen)\n",
        "x_test = sequence.pad_sequences(x_test, maxlen =maxlen)"
      ],
      "execution_count": 0,
      "outputs": []
    }
  ]
}