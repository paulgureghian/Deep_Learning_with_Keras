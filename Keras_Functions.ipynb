{
  "nbformat": 4,
  "nbformat_minor": 0,
  "metadata": {
    "colab": {
      "name": "Keras_Functions.ipynb",
      "version": "0.3.2",
      "provenance": [],
      "collapsed_sections": [],
      "include_colab_link": true
    },
    "kernelspec": {
      "name": "python3",
      "display_name": "Python 3"
    }
  },
  "cells": [
    {
      "cell_type": "markdown",
      "metadata": {
        "id": "view-in-github",
        "colab_type": "text"
      },
      "source": [
        "<a href=\"https://colab.research.google.com/github/paulgureghian/Deep_Learning_with_Keras/blob/master/Keras_Functions.ipynb\" target=\"_parent\"><img src=\"https://colab.research.google.com/assets/colab-badge.svg\" alt=\"Open In Colab\"/></a>"
      ]
    },
    {
      "metadata": {
        "id": "q7pjsxX_Jjyt",
        "colab_type": "text"
      },
      "cell_type": "markdown",
      "source": [
        "**A collection of Keras functions**\n",
        "\n",
        "**To debug  Deep Neural Networks.**"
      ]
    },
    {
      "metadata": {
        "id": "7InJ9uHiJcon",
        "colab_type": "code",
        "colab": {}
      },
      "cell_type": "code",
      "source": [
        "### Import Keras and its functions\n",
        "import tensorflow as tf\n",
        "from keras import backend as K "
      ],
      "execution_count": 0,
      "outputs": []
    },
    {
      "metadata": {
        "id": "0kjT7OiSJ9vz",
        "colab_type": "code",
        "colab": {}
      },
      "cell_type": "code",
      "source": [
        "### A function which extracts activations from a Keras model\n",
        "### Define 'extract_layer_output'\n",
        "\n",
        "def extract_layer_output(model, layer_name, input_data):\n",
        "    \n",
        "    layer_output_fn = K.function([model.layers[0].input],\n",
        "                                 [model.get_layer(layer_name).output])                       \n",
        "  \n",
        "    layer_output = layer_output_fn([input_data])\n",
        "    \n",
        "    return layer_output[0] "
      ],
      "execution_count": 0,
      "outputs": []
    },
    {
      "metadata": {
        "id": "FTxFl-BmVp7X",
        "colab_type": "code",
        "colab": {}
      },
      "cell_type": "code",
      "source": [
        "### A function to compute the gradient \n",
        "### of an output with respect to an input\n",
        "\n",
        "def gradient_output_wrt_input(model, data):\n",
        "    \n",
        "    output_tensor = model.model.get_layer('raw_output').output[:, 2048, 0]\n",
        "    \n",
        "    output_tensor_sum = tf.reduce_mean(output_tensor) \n",
        "    \n",
        "    inputs = model.model.inputs\n",
        "    gradient_tensors = tf.gradients(output_tensor_sum, inputs) \n",
        "    gradient_tensors = tf.reduce_mean(gradient_tensors, axis=0)\n",
        "    \n",
        "    k_gradients = K.function(inputs =inputs, outputs =gradient_tensors) \n",
        "\n",
        "    return k_gradients([data.X]) "
      ],
      "execution_count": 0,
      "outputs": []
    }
  ]
}